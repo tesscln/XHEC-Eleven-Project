{
 "cells": [
  {
   "cell_type": "markdown",
   "metadata": {},
   "source": [
    "## EDA\n",
    "\n",
    "### Loading libraries"
   ]
  },
  {
   "cell_type": "code",
   "execution_count": 7,
   "metadata": {},
   "outputs": [],
   "source": [
    "import pandas as pd\n",
    "import matplotlib.pyplot as plt\n",
    "import seaborn as sns"
   ]
  },
  {
   "cell_type": "code",
   "execution_count": 13,
   "metadata": {},
   "outputs": [],
   "source": [
    "actions = pd.read_excel(\"data/actions.xlsx\")"
   ]
  },
  {
   "cell_type": "code",
   "execution_count": 15,
   "metadata": {},
   "outputs": [
    {
     "data": {
      "text/html": [
       "<div>\n",
       "<style scoped>\n",
       "    .dataframe tbody tr th:only-of-type {\n",
       "        vertical-align: middle;\n",
       "    }\n",
       "\n",
       "    .dataframe tbody tr th {\n",
       "        vertical-align: top;\n",
       "    }\n",
       "\n",
       "    .dataframe thead th {\n",
       "        text-align: right;\n",
       "    }\n",
       "</style>\n",
       "<table border=\"1\" class=\"dataframe\">\n",
       "  <thead>\n",
       "    <tr style=\"text-align: right;\">\n",
       "      <th></th>\n",
       "      <th>action_id</th>\n",
       "      <th>action_type_label</th>\n",
       "      <th>action_subcategory_label</th>\n",
       "      <th>action_start_date</th>\n",
       "      <th>action_year</th>\n",
       "      <th>action_end_date</th>\n",
       "      <th>action_collection_year</th>\n",
       "      <th>action_collection</th>\n",
       "      <th>action_universe</th>\n",
       "      <th>action_category_label</th>\n",
       "      <th>action_channel</th>\n",
       "      <th>action_label</th>\n",
       "      <th>client_id</th>\n",
       "      <th>client_is_present</th>\n",
       "      <th>client_is_invited</th>\n",
       "    </tr>\n",
       "  </thead>\n",
       "  <tbody>\n",
       "    <tr>\n",
       "      <th>0</th>\n",
       "      <td>a654760</td>\n",
       "      <td>Collection</td>\n",
       "      <td>Collection</td>\n",
       "      <td>2022-04-07</td>\n",
       "      <td>2022</td>\n",
       "      <td>2022-04-11</td>\n",
       "      <td>2022</td>\n",
       "      <td>Mid-Season Jewelry and Timepieces</td>\n",
       "      <td>Timepieces and Jewelry</td>\n",
       "      <td>Retail</td>\n",
       "      <td>In store</td>\n",
       "      <td>Exclusive Offer</td>\n",
       "      <td>c23083988</td>\n",
       "      <td>1</td>\n",
       "      <td>1</td>\n",
       "    </tr>\n",
       "    <tr>\n",
       "      <th>1</th>\n",
       "      <td>a979979</td>\n",
       "      <td>Collection</td>\n",
       "      <td>Collection</td>\n",
       "      <td>2021-10-20</td>\n",
       "      <td>2021</td>\n",
       "      <td>2021-10-21</td>\n",
       "      <td>2021</td>\n",
       "      <td>Sailor Collection</td>\n",
       "      <td>Women's Fashion</td>\n",
       "      <td>Retail</td>\n",
       "      <td>In store</td>\n",
       "      <td>Exclusive Offer</td>\n",
       "      <td>c40865409</td>\n",
       "      <td>1</td>\n",
       "      <td>1</td>\n",
       "    </tr>\n",
       "    <tr>\n",
       "      <th>2</th>\n",
       "      <td>a803469</td>\n",
       "      <td>Collection</td>\n",
       "      <td>Collection</td>\n",
       "      <td>2020-10-29</td>\n",
       "      <td>2020</td>\n",
       "      <td>2020-10-29</td>\n",
       "      <td>2020</td>\n",
       "      <td>Spring Collection</td>\n",
       "      <td>Men's Fashion</td>\n",
       "      <td>Retail</td>\n",
       "      <td>In store</td>\n",
       "      <td>Social Gathering</td>\n",
       "      <td>c95435465</td>\n",
       "      <td>1</td>\n",
       "      <td>1</td>\n",
       "    </tr>\n",
       "    <tr>\n",
       "      <th>3</th>\n",
       "      <td>a887515</td>\n",
       "      <td>Collection</td>\n",
       "      <td>Collection</td>\n",
       "      <td>2022-01-11</td>\n",
       "      <td>2022</td>\n",
       "      <td>2022-01-11</td>\n",
       "      <td>2022</td>\n",
       "      <td>Formal Retail Action</td>\n",
       "      <td>Men's Fashion</td>\n",
       "      <td>Retail</td>\n",
       "      <td>In store</td>\n",
       "      <td>Social Gathering</td>\n",
       "      <td>c58792918</td>\n",
       "      <td>1</td>\n",
       "      <td>1</td>\n",
       "    </tr>\n",
       "    <tr>\n",
       "      <th>4</th>\n",
       "      <td>a233620</td>\n",
       "      <td>Collection</td>\n",
       "      <td>Collection</td>\n",
       "      <td>2021-05-27</td>\n",
       "      <td>2021</td>\n",
       "      <td>2021-06-21</td>\n",
       "      <td>2021</td>\n",
       "      <td>Mid-Season Jewelry and Timepieces</td>\n",
       "      <td>Timepieces and Jewelry</td>\n",
       "      <td>Retail</td>\n",
       "      <td>NaN</td>\n",
       "      <td>Exclusive Offer</td>\n",
       "      <td>c34394230</td>\n",
       "      <td>1</td>\n",
       "      <td>1</td>\n",
       "    </tr>\n",
       "  </tbody>\n",
       "</table>\n",
       "</div>"
      ],
      "text/plain": [
       "  action_id action_type_label action_subcategory_label action_start_date  \\\n",
       "0   a654760        Collection               Collection        2022-04-07   \n",
       "1   a979979        Collection               Collection        2021-10-20   \n",
       "2   a803469        Collection               Collection        2020-10-29   \n",
       "3   a887515        Collection               Collection        2022-01-11   \n",
       "4   a233620        Collection               Collection        2021-05-27   \n",
       "\n",
       "   action_year action_end_date  action_collection_year  \\\n",
       "0         2022      2022-04-11                    2022   \n",
       "1         2021      2021-10-21                    2021   \n",
       "2         2020      2020-10-29                    2020   \n",
       "3         2022      2022-01-11                    2022   \n",
       "4         2021      2021-06-21                    2021   \n",
       "\n",
       "                   action_collection         action_universe  \\\n",
       "0  Mid-Season Jewelry and Timepieces  Timepieces and Jewelry   \n",
       "1                  Sailor Collection         Women's Fashion   \n",
       "2                  Spring Collection           Men's Fashion   \n",
       "3               Formal Retail Action           Men's Fashion   \n",
       "4  Mid-Season Jewelry and Timepieces  Timepieces and Jewelry   \n",
       "\n",
       "  action_category_label action_channel      action_label  client_id  \\\n",
       "0                Retail       In store   Exclusive Offer  c23083988   \n",
       "1                Retail       In store   Exclusive Offer  c40865409   \n",
       "2                Retail       In store  Social Gathering  c95435465   \n",
       "3                Retail       In store  Social Gathering  c58792918   \n",
       "4                Retail            NaN   Exclusive Offer  c34394230   \n",
       "\n",
       "   client_is_present  client_is_invited  \n",
       "0                  1                  1  \n",
       "1                  1                  1  \n",
       "2                  1                  1  \n",
       "3                  1                  1  \n",
       "4                  1                  1  "
      ]
     },
     "execution_count": 15,
     "metadata": {},
     "output_type": "execute_result"
    }
   ],
   "source": [
    "actions.head()"
   ]
  },
  {
   "cell_type": "code",
   "execution_count": 18,
   "metadata": {},
   "outputs": [
    {
     "name": "stdout",
     "output_type": "stream",
     "text": [
      "<class 'pandas.core.frame.DataFrame'>\n",
      "RangeIndex: 10000 entries, 0 to 9999\n",
      "Data columns (total 15 columns):\n",
      " #   Column                    Non-Null Count  Dtype         \n",
      "---  ------                    --------------  -----         \n",
      " 0   action_id                 10000 non-null  object        \n",
      " 1   action_type_label         10000 non-null  object        \n",
      " 2   action_subcategory_label  10000 non-null  object        \n",
      " 3   action_start_date         10000 non-null  datetime64[ns]\n",
      " 4   action_year               10000 non-null  int64         \n",
      " 5   action_end_date           10000 non-null  datetime64[ns]\n",
      " 6   action_collection_year    10000 non-null  int64         \n",
      " 7   action_collection         9999 non-null   object        \n",
      " 8   action_universe           10000 non-null  object        \n",
      " 9   action_category_label     10000 non-null  object        \n",
      " 10  action_channel            8689 non-null   object        \n",
      " 11  action_label              10000 non-null  object        \n",
      " 12  client_id                 10000 non-null  object        \n",
      " 13  client_is_present         10000 non-null  int64         \n",
      " 14  client_is_invited         10000 non-null  int64         \n",
      "dtypes: datetime64[ns](2), int64(4), object(9)\n",
      "memory usage: 1.1+ MB\n"
     ]
    }
   ],
   "source": [
    "actions.info()"
   ]
  },
  {
   "cell_type": "code",
   "execution_count": 19,
   "metadata": {},
   "outputs": [],
   "source": [
    "clients = pd.read_excel('data/clients.xlsx')"
   ]
  },
  {
   "cell_type": "code",
   "execution_count": 20,
   "metadata": {},
   "outputs": [
    {
     "name": "stdout",
     "output_type": "stream",
     "text": [
      "<class 'pandas.core.frame.DataFrame'>\n",
      "RangeIndex: 28751 entries, 0 to 28750\n",
      "Data columns (total 10 columns):\n",
      " #   Column                                   Non-Null Count  Dtype \n",
      "---  ------                                   --------------  ----- \n",
      " 0   client_id                                28751 non-null  object\n",
      " 1   client_country                           19095 non-null  object\n",
      " 2   client_gender                            12544 non-null  object\n",
      " 3   client_nationality                       12601 non-null  object\n",
      " 4   client_city                              10487 non-null  object\n",
      " 5   client_premium_status                    28751 non-null  int64 \n",
      " 6   client_is_phone_contactable              28751 non-null  int64 \n",
      " 7   client_is_email_contactable              28751 non-null  int64 \n",
      " 8   client_is_instant_messaging_contactable  28751 non-null  int64 \n",
      " 9   client_is_contactable                    28751 non-null  int64 \n",
      "dtypes: int64(5), object(5)\n",
      "memory usage: 2.2+ MB\n"
     ]
    }
   ],
   "source": [
    "clients.info()"
   ]
  },
  {
   "cell_type": "code",
   "execution_count": 21,
   "metadata": {},
   "outputs": [
    {
     "data": {
      "text/html": [
       "<div>\n",
       "<style scoped>\n",
       "    .dataframe tbody tr th:only-of-type {\n",
       "        vertical-align: middle;\n",
       "    }\n",
       "\n",
       "    .dataframe tbody tr th {\n",
       "        vertical-align: top;\n",
       "    }\n",
       "\n",
       "    .dataframe thead th {\n",
       "        text-align: right;\n",
       "    }\n",
       "</style>\n",
       "<table border=\"1\" class=\"dataframe\">\n",
       "  <thead>\n",
       "    <tr style=\"text-align: right;\">\n",
       "      <th></th>\n",
       "      <th>client_id</th>\n",
       "      <th>client_country</th>\n",
       "      <th>client_gender</th>\n",
       "      <th>client_nationality</th>\n",
       "      <th>client_city</th>\n",
       "      <th>client_premium_status</th>\n",
       "      <th>client_is_phone_contactable</th>\n",
       "      <th>client_is_email_contactable</th>\n",
       "      <th>client_is_instant_messaging_contactable</th>\n",
       "      <th>client_is_contactable</th>\n",
       "    </tr>\n",
       "  </thead>\n",
       "  <tbody>\n",
       "    <tr>\n",
       "      <th>0</th>\n",
       "      <td>c41404743</td>\n",
       "      <td>BN</td>\n",
       "      <td>NaN</td>\n",
       "      <td>NaN</td>\n",
       "      <td>NaN</td>\n",
       "      <td>0</td>\n",
       "      <td>0</td>\n",
       "      <td>0</td>\n",
       "      <td>1</td>\n",
       "      <td>1</td>\n",
       "    </tr>\n",
       "    <tr>\n",
       "      <th>1</th>\n",
       "      <td>c65630254</td>\n",
       "      <td>CA</td>\n",
       "      <td>NaN</td>\n",
       "      <td>NaN</td>\n",
       "      <td>NaN</td>\n",
       "      <td>0</td>\n",
       "      <td>0</td>\n",
       "      <td>0</td>\n",
       "      <td>1</td>\n",
       "      <td>1</td>\n",
       "    </tr>\n",
       "    <tr>\n",
       "      <th>2</th>\n",
       "      <td>c89796498</td>\n",
       "      <td>NL</td>\n",
       "      <td>NaN</td>\n",
       "      <td>NaN</td>\n",
       "      <td>NaN</td>\n",
       "      <td>0</td>\n",
       "      <td>0</td>\n",
       "      <td>0</td>\n",
       "      <td>1</td>\n",
       "      <td>1</td>\n",
       "    </tr>\n",
       "    <tr>\n",
       "      <th>3</th>\n",
       "      <td>c03959902</td>\n",
       "      <td>SE</td>\n",
       "      <td>NaN</td>\n",
       "      <td>NaN</td>\n",
       "      <td>NaN</td>\n",
       "      <td>0</td>\n",
       "      <td>0</td>\n",
       "      <td>0</td>\n",
       "      <td>1</td>\n",
       "      <td>1</td>\n",
       "    </tr>\n",
       "    <tr>\n",
       "      <th>4</th>\n",
       "      <td>c39809280</td>\n",
       "      <td>BG</td>\n",
       "      <td>NaN</td>\n",
       "      <td>NaN</td>\n",
       "      <td>NaN</td>\n",
       "      <td>0</td>\n",
       "      <td>0</td>\n",
       "      <td>0</td>\n",
       "      <td>1</td>\n",
       "      <td>1</td>\n",
       "    </tr>\n",
       "  </tbody>\n",
       "</table>\n",
       "</div>"
      ],
      "text/plain": [
       "   client_id client_country client_gender client_nationality client_city  \\\n",
       "0  c41404743             BN           NaN                NaN         NaN   \n",
       "1  c65630254             CA           NaN                NaN         NaN   \n",
       "2  c89796498             NL           NaN                NaN         NaN   \n",
       "3  c03959902             SE           NaN                NaN         NaN   \n",
       "4  c39809280             BG           NaN                NaN         NaN   \n",
       "\n",
       "   client_premium_status  client_is_phone_contactable  \\\n",
       "0                      0                            0   \n",
       "1                      0                            0   \n",
       "2                      0                            0   \n",
       "3                      0                            0   \n",
       "4                      0                            0   \n",
       "\n",
       "   client_is_email_contactable  client_is_instant_messaging_contactable  \\\n",
       "0                            0                                        1   \n",
       "1                            0                                        1   \n",
       "2                            0                                        1   \n",
       "3                            0                                        1   \n",
       "4                            0                                        1   \n",
       "\n",
       "   client_is_contactable  \n",
       "0                      1  \n",
       "1                      1  \n",
       "2                      1  \n",
       "3                      1  \n",
       "4                      1  "
      ]
     },
     "execution_count": 21,
     "metadata": {},
     "output_type": "execute_result"
    }
   ],
   "source": [
    "clients.head()"
   ]
  },
  {
   "cell_type": "code",
   "execution_count": 22,
   "metadata": {},
   "outputs": [],
   "source": [
    "transactions = pd.read_excel('data/transactions.xlsx')"
   ]
  },
  {
   "cell_type": "code",
   "execution_count": 24,
   "metadata": {},
   "outputs": [
    {
     "name": "stdout",
     "output_type": "stream",
     "text": [
      "<class 'pandas.core.frame.DataFrame'>\n",
      "RangeIndex: 54638 entries, 0 to 54637\n",
      "Data columns (total 8 columns):\n",
      " #   Column               Non-Null Count  Dtype         \n",
      "---  ------               --------------  -----         \n",
      " 0   client_id            54638 non-null  object        \n",
      " 1   transaction_id       54638 non-null  object        \n",
      " 2   transaction_date     54638 non-null  datetime64[ns]\n",
      " 3   product_quantity     54638 non-null  int64         \n",
      " 4   gross_amount_euro    54638 non-null  int64         \n",
      " 5   product_category     54638 non-null  object        \n",
      " 6   product_subcategory  54638 non-null  object        \n",
      " 7   product_style        54631 non-null  object        \n",
      "dtypes: datetime64[ns](1), int64(2), object(5)\n",
      "memory usage: 3.3+ MB\n"
     ]
    }
   ],
   "source": [
    "transactions.info()"
   ]
  },
  {
   "cell_type": "code",
   "execution_count": 30,
   "metadata": {},
   "outputs": [
    {
     "data": {
      "text/plain": [
       "8871"
      ]
     },
     "execution_count": 30,
     "metadata": {},
     "output_type": "execute_result"
    }
   ],
   "source": [
    "actions['client_id'].nunique()"
   ]
  },
  {
   "cell_type": "code",
   "execution_count": 23,
   "metadata": {},
   "outputs": [
    {
     "data": {
      "text/html": [
       "<div>\n",
       "<style scoped>\n",
       "    .dataframe tbody tr th:only-of-type {\n",
       "        vertical-align: middle;\n",
       "    }\n",
       "\n",
       "    .dataframe tbody tr th {\n",
       "        vertical-align: top;\n",
       "    }\n",
       "\n",
       "    .dataframe thead th {\n",
       "        text-align: right;\n",
       "    }\n",
       "</style>\n",
       "<table border=\"1\" class=\"dataframe\">\n",
       "  <thead>\n",
       "    <tr style=\"text-align: right;\">\n",
       "      <th></th>\n",
       "      <th>client_id</th>\n",
       "      <th>transaction_id</th>\n",
       "      <th>transaction_date</th>\n",
       "      <th>product_quantity</th>\n",
       "      <th>gross_amount_euro</th>\n",
       "      <th>product_category</th>\n",
       "      <th>product_subcategory</th>\n",
       "      <th>product_style</th>\n",
       "    </tr>\n",
       "  </thead>\n",
       "  <tbody>\n",
       "    <tr>\n",
       "      <th>0</th>\n",
       "      <td>c17974679</td>\n",
       "      <td>t11288118</td>\n",
       "      <td>2020-07-25</td>\n",
       "      <td>1</td>\n",
       "      <td>3044</td>\n",
       "      <td>Women Ready-to-Wear</td>\n",
       "      <td>Unknown</td>\n",
       "      <td>Casual Style</td>\n",
       "    </tr>\n",
       "    <tr>\n",
       "      <th>1</th>\n",
       "      <td>c17974679</td>\n",
       "      <td>t93389142</td>\n",
       "      <td>2020-06-20</td>\n",
       "      <td>1</td>\n",
       "      <td>569</td>\n",
       "      <td>Women Accessory</td>\n",
       "      <td>Unknown</td>\n",
       "      <td>Stylish Fashion</td>\n",
       "    </tr>\n",
       "    <tr>\n",
       "      <th>2</th>\n",
       "      <td>c17974679</td>\n",
       "      <td>t62924895</td>\n",
       "      <td>2021-01-13</td>\n",
       "      <td>1</td>\n",
       "      <td>7727</td>\n",
       "      <td>Women Bags</td>\n",
       "      <td>Unknown</td>\n",
       "      <td>Leather</td>\n",
       "    </tr>\n",
       "    <tr>\n",
       "      <th>3</th>\n",
       "      <td>c17974679</td>\n",
       "      <td>t93389142</td>\n",
       "      <td>2020-06-20</td>\n",
       "      <td>1</td>\n",
       "      <td>3954</td>\n",
       "      <td>Women Ready-to-Wear</td>\n",
       "      <td>Unknown</td>\n",
       "      <td>Casual Style</td>\n",
       "    </tr>\n",
       "    <tr>\n",
       "      <th>4</th>\n",
       "      <td>c17974679</td>\n",
       "      <td>t33368160</td>\n",
       "      <td>2021-05-03</td>\n",
       "      <td>1</td>\n",
       "      <td>1541</td>\n",
       "      <td>Women Ready-to-Wear</td>\n",
       "      <td>bottom segment</td>\n",
       "      <td>Casual Style</td>\n",
       "    </tr>\n",
       "  </tbody>\n",
       "</table>\n",
       "</div>"
      ],
      "text/plain": [
       "   client_id transaction_id transaction_date  product_quantity  \\\n",
       "0  c17974679      t11288118       2020-07-25                 1   \n",
       "1  c17974679      t93389142       2020-06-20                 1   \n",
       "2  c17974679      t62924895       2021-01-13                 1   \n",
       "3  c17974679      t93389142       2020-06-20                 1   \n",
       "4  c17974679      t33368160       2021-05-03                 1   \n",
       "\n",
       "   gross_amount_euro     product_category product_subcategory    product_style  \n",
       "0               3044  Women Ready-to-Wear             Unknown     Casual Style  \n",
       "1                569      Women Accessory             Unknown  Stylish Fashion  \n",
       "2               7727           Women Bags             Unknown          Leather  \n",
       "3               3954  Women Ready-to-Wear             Unknown     Casual Style  \n",
       "4               1541  Women Ready-to-Wear      bottom segment     Casual Style  "
      ]
     },
     "execution_count": 23,
     "metadata": {},
     "output_type": "execute_result"
    }
   ],
   "source": [
    "transactions.head()"
   ]
  },
  {
   "cell_type": "markdown",
   "metadata": {},
   "source": [
    "### Dataframes shapes"
   ]
  },
  {
   "cell_type": "code",
   "execution_count": 27,
   "metadata": {},
   "outputs": [
    {
     "name": "stdout",
     "output_type": "stream",
     "text": [
      "The ACTIONS dataframe has 15 features and 10000 entries.\n",
      "The CLIENTS dataframe has 10 features and 28751 entries.\n",
      "The TRANSACTIONS dataframe has 8 features and 54638 entries.\n"
     ]
    }
   ],
   "source": [
    "print(f\"The ACTIONS dataframe has {actions.shape[1]} features and {actions.shape[0]} entries.\")\n",
    "print(f\"The CLIENTS dataframe has {clients.shape[1]} features and {clients.shape[0]} entries.\")\n",
    "print(f\"The TRANSACTIONS dataframe has {transactions.shape[1]} features and {transactions.shape[0]} entries.\")"
   ]
  },
  {
   "cell_type": "markdown",
   "metadata": {},
   "source": [
    "### Unique clients"
   ]
  },
  {
   "cell_type": "code",
   "execution_count": 31,
   "metadata": {},
   "outputs": [
    {
     "data": {
      "text/plain": [
       "13884"
      ]
     },
     "execution_count": 31,
     "metadata": {},
     "output_type": "execute_result"
    }
   ],
   "source": [
    "transactions['client_id'].nunique()"
   ]
  },
  {
   "cell_type": "code",
   "execution_count": 32,
   "metadata": {},
   "outputs": [
    {
     "data": {
      "text/plain": [
       "28751"
      ]
     },
     "execution_count": 32,
     "metadata": {},
     "output_type": "execute_result"
    }
   ],
   "source": [
    "clients['client_id'].nunique()"
   ]
  },
  {
   "cell_type": "code",
   "execution_count": 40,
   "metadata": {},
   "outputs": [
    {
     "name": "stdout",
     "output_type": "stream",
     "text": [
      "Percentage of clients having made transactions: 48.3%\n"
     ]
    }
   ],
   "source": [
    "print(f\"Percentage of clients having made transactions: {round(transactions['client_id'].nunique() / clients['client_id'].nunique(), 3)*100}%\")"
   ]
  },
  {
   "cell_type": "code",
   "execution_count": 42,
   "metadata": {},
   "outputs": [
    {
     "data": {
      "text/plain": [
       "np.float64(3443.0228778505802)"
      ]
     },
     "execution_count": 42,
     "metadata": {},
     "output_type": "execute_result"
    }
   ],
   "source": [
    "transactions['gross_amount_euro'].mean()"
   ]
  },
  {
   "cell_type": "code",
   "execution_count": 43,
   "metadata": {},
   "outputs": [
    {
     "data": {
      "text/plain": [
       "8871"
      ]
     },
     "execution_count": 43,
     "metadata": {},
     "output_type": "execute_result"
    }
   ],
   "source": [
    "actions['client_id'].nunique()"
   ]
  },
  {
   "cell_type": "code",
   "execution_count": 45,
   "metadata": {},
   "outputs": [
    {
     "data": {
      "text/plain": [
       "client_is_invited\n",
       "1    10000\n",
       "Name: count, dtype: int64"
      ]
     },
     "execution_count": 45,
     "metadata": {},
     "output_type": "execute_result"
    }
   ],
   "source": [
    "actions['client_is_invited'].value_counts()"
   ]
  },
  {
   "cell_type": "code",
   "execution_count": 44,
   "metadata": {},
   "outputs": [
    {
     "data": {
      "text/plain": [
       "client_is_present\n",
       "1    5437\n",
       "0    4563\n",
       "Name: count, dtype: int64"
      ]
     },
     "execution_count": 44,
     "metadata": {},
     "output_type": "execute_result"
    }
   ],
   "source": [
    "actions['client_is_present'].value_counts()"
   ]
  },
  {
   "cell_type": "code",
   "execution_count": 55,
   "metadata": {},
   "outputs": [],
   "source": [
    "import numpy as np"
   ]
  },
  {
   "cell_type": "code",
   "execution_count": 62,
   "metadata": {},
   "outputs": [],
   "source": [
    "clients_present = actions[actions['client_is_present'] == 1]\n",
    "clients_present_list = list(clients_present['client_id'])"
   ]
  },
  {
   "cell_type": "code",
   "execution_count": 64,
   "metadata": {},
   "outputs": [
    {
     "data": {
      "text/plain": [
       "54638"
      ]
     },
     "execution_count": 64,
     "metadata": {},
     "output_type": "execute_result"
    }
   ],
   "source": [
    "transactions['client_id'].shape[0]"
   ]
  },
  {
   "cell_type": "code",
   "execution_count": 66,
   "metadata": {},
   "outputs": [
    {
     "data": {
      "text/plain": [
       "5437"
      ]
     },
     "execution_count": 66,
     "metadata": {},
     "output_type": "execute_result"
    }
   ],
   "source": [
    "len(clients_present_list)"
   ]
  },
  {
   "cell_type": "code",
   "execution_count": 63,
   "metadata": {},
   "outputs": [
    {
     "ename": "SyntaxError",
     "evalue": "expected ':' (2256954215.py, line 3)",
     "output_type": "error",
     "traceback": [
      "\u001b[0;36m  Cell \u001b[0;32mIn[63], line 3\u001b[0;36m\u001b[0m\n\u001b[0;31m    for i in range(n)\u001b[0m\n\u001b[0m                     ^\u001b[0m\n\u001b[0;31mSyntaxError\u001b[0m\u001b[0;31m:\u001b[0m expected ':'\n"
     ]
    }
   ],
   "source": [
    "clients_present_transactions = []\n",
    "n = transactions['client_id'].shape[0]\n",
    "for i in range(n):\n",
    "    if transactions['client_id']"
   ]
  },
  {
   "cell_type": "code",
   "execution_count": 61,
   "metadata": {},
   "outputs": [],
   "source": [
    "clients_present_no_transactions = []"
   ]
  },
  {
   "cell_type": "code",
   "execution_count": 53,
   "metadata": {},
   "outputs": [
    {
     "data": {
      "text/plain": [
       "(63502, 8)"
      ]
     },
     "execution_count": 53,
     "metadata": {},
     "output_type": "execute_result"
    }
   ],
   "source": [
    "merged_1.shape"
   ]
  },
  {
   "cell_type": "code",
   "execution_count": 67,
   "metadata": {},
   "outputs": [
    {
     "data": {
      "text/plain": [
       "13884"
      ]
     },
     "execution_count": 67,
     "metadata": {},
     "output_type": "execute_result"
    }
   ],
   "source": [
    "transactions['client_id'].nunique()"
   ]
  },
  {
   "cell_type": "code",
   "execution_count": 68,
   "metadata": {},
   "outputs": [
    {
     "data": {
      "text/plain": [
       "8871"
      ]
     },
     "execution_count": 68,
     "metadata": {},
     "output_type": "execute_result"
    }
   ],
   "source": [
    "actions['client_id'].nunique()"
   ]
  },
  {
   "cell_type": "code",
   "execution_count": 156,
   "metadata": {},
   "outputs": [],
   "source": [
    "transactions_groupedby = transactions.groupby('client_id', as_index=False)['gross_amount_euro'].count()"
   ]
  },
  {
   "cell_type": "code",
   "execution_count": 157,
   "metadata": {},
   "outputs": [
    {
     "data": {
      "text/html": [
       "<div>\n",
       "<style scoped>\n",
       "    .dataframe tbody tr th:only-of-type {\n",
       "        vertical-align: middle;\n",
       "    }\n",
       "\n",
       "    .dataframe tbody tr th {\n",
       "        vertical-align: top;\n",
       "    }\n",
       "\n",
       "    .dataframe thead th {\n",
       "        text-align: right;\n",
       "    }\n",
       "</style>\n",
       "<table border=\"1\" class=\"dataframe\">\n",
       "  <thead>\n",
       "    <tr style=\"text-align: right;\">\n",
       "      <th></th>\n",
       "      <th>client_id</th>\n",
       "      <th>gross_amount_euro</th>\n",
       "    </tr>\n",
       "  </thead>\n",
       "  <tbody>\n",
       "    <tr>\n",
       "      <th>0</th>\n",
       "      <td>c00029531</td>\n",
       "      <td>3</td>\n",
       "    </tr>\n",
       "    <tr>\n",
       "      <th>1</th>\n",
       "      <td>c00055636</td>\n",
       "      <td>2</td>\n",
       "    </tr>\n",
       "    <tr>\n",
       "      <th>2</th>\n",
       "      <td>c00068475</td>\n",
       "      <td>2</td>\n",
       "    </tr>\n",
       "    <tr>\n",
       "      <th>3</th>\n",
       "      <td>c00089184</td>\n",
       "      <td>5</td>\n",
       "    </tr>\n",
       "    <tr>\n",
       "      <th>4</th>\n",
       "      <td>c00091299</td>\n",
       "      <td>1</td>\n",
       "    </tr>\n",
       "    <tr>\n",
       "      <th>...</th>\n",
       "      <td>...</td>\n",
       "      <td>...</td>\n",
       "    </tr>\n",
       "    <tr>\n",
       "      <th>13879</th>\n",
       "      <td>c99976540</td>\n",
       "      <td>7</td>\n",
       "    </tr>\n",
       "    <tr>\n",
       "      <th>13880</th>\n",
       "      <td>c99978675</td>\n",
       "      <td>2</td>\n",
       "    </tr>\n",
       "    <tr>\n",
       "      <th>13881</th>\n",
       "      <td>c99989096</td>\n",
       "      <td>1</td>\n",
       "    </tr>\n",
       "    <tr>\n",
       "      <th>13882</th>\n",
       "      <td>c99995560</td>\n",
       "      <td>1</td>\n",
       "    </tr>\n",
       "    <tr>\n",
       "      <th>13883</th>\n",
       "      <td>c99997359</td>\n",
       "      <td>1</td>\n",
       "    </tr>\n",
       "  </tbody>\n",
       "</table>\n",
       "<p>13884 rows × 2 columns</p>\n",
       "</div>"
      ],
      "text/plain": [
       "       client_id  gross_amount_euro\n",
       "0      c00029531                  3\n",
       "1      c00055636                  2\n",
       "2      c00068475                  2\n",
       "3      c00089184                  5\n",
       "4      c00091299                  1\n",
       "...          ...                ...\n",
       "13879  c99976540                  7\n",
       "13880  c99978675                  2\n",
       "13881  c99989096                  1\n",
       "13882  c99995560                  1\n",
       "13883  c99997359                  1\n",
       "\n",
       "[13884 rows x 2 columns]"
      ]
     },
     "execution_count": 157,
     "metadata": {},
     "output_type": "execute_result"
    }
   ],
   "source": [
    "transactions_groupedby"
   ]
  },
  {
   "cell_type": "code",
   "execution_count": 173,
   "metadata": {},
   "outputs": [],
   "source": [
    "merged_df = pd.merge(left=actions, right=transactions_groupedby, on='client_id', how='left').fillna(0)"
   ]
  },
  {
   "cell_type": "code",
   "execution_count": 174,
   "metadata": {},
   "outputs": [
    {
     "data": {
      "text/html": [
       "<div>\n",
       "<style scoped>\n",
       "    .dataframe tbody tr th:only-of-type {\n",
       "        vertical-align: middle;\n",
       "    }\n",
       "\n",
       "    .dataframe tbody tr th {\n",
       "        vertical-align: top;\n",
       "    }\n",
       "\n",
       "    .dataframe thead th {\n",
       "        text-align: right;\n",
       "    }\n",
       "</style>\n",
       "<table border=\"1\" class=\"dataframe\">\n",
       "  <thead>\n",
       "    <tr style=\"text-align: right;\">\n",
       "      <th></th>\n",
       "      <th>action_id</th>\n",
       "      <th>action_type_label</th>\n",
       "      <th>action_subcategory_label</th>\n",
       "      <th>action_start_date</th>\n",
       "      <th>action_year</th>\n",
       "      <th>action_end_date</th>\n",
       "      <th>action_collection_year</th>\n",
       "      <th>action_collection</th>\n",
       "      <th>action_universe</th>\n",
       "      <th>action_category_label</th>\n",
       "      <th>action_channel</th>\n",
       "      <th>action_label</th>\n",
       "      <th>client_id</th>\n",
       "      <th>client_is_present</th>\n",
       "      <th>client_is_invited</th>\n",
       "      <th>gross_amount_euro</th>\n",
       "    </tr>\n",
       "  </thead>\n",
       "  <tbody>\n",
       "    <tr>\n",
       "      <th>0</th>\n",
       "      <td>a654760</td>\n",
       "      <td>Collection</td>\n",
       "      <td>Collection</td>\n",
       "      <td>2022-04-07</td>\n",
       "      <td>2022</td>\n",
       "      <td>2022-04-11</td>\n",
       "      <td>2022</td>\n",
       "      <td>Mid-Season Jewelry and Timepieces</td>\n",
       "      <td>Timepieces and Jewelry</td>\n",
       "      <td>Retail</td>\n",
       "      <td>In store</td>\n",
       "      <td>Exclusive Offer</td>\n",
       "      <td>c23083988</td>\n",
       "      <td>1</td>\n",
       "      <td>1</td>\n",
       "      <td>0.0</td>\n",
       "    </tr>\n",
       "    <tr>\n",
       "      <th>1</th>\n",
       "      <td>a979979</td>\n",
       "      <td>Collection</td>\n",
       "      <td>Collection</td>\n",
       "      <td>2021-10-20</td>\n",
       "      <td>2021</td>\n",
       "      <td>2021-10-21</td>\n",
       "      <td>2021</td>\n",
       "      <td>Sailor Collection</td>\n",
       "      <td>Women's Fashion</td>\n",
       "      <td>Retail</td>\n",
       "      <td>In store</td>\n",
       "      <td>Exclusive Offer</td>\n",
       "      <td>c40865409</td>\n",
       "      <td>1</td>\n",
       "      <td>1</td>\n",
       "      <td>0.0</td>\n",
       "    </tr>\n",
       "    <tr>\n",
       "      <th>2</th>\n",
       "      <td>a803469</td>\n",
       "      <td>Collection</td>\n",
       "      <td>Collection</td>\n",
       "      <td>2020-10-29</td>\n",
       "      <td>2020</td>\n",
       "      <td>2020-10-29</td>\n",
       "      <td>2020</td>\n",
       "      <td>Spring Collection</td>\n",
       "      <td>Men's Fashion</td>\n",
       "      <td>Retail</td>\n",
       "      <td>In store</td>\n",
       "      <td>Social Gathering</td>\n",
       "      <td>c95435465</td>\n",
       "      <td>1</td>\n",
       "      <td>1</td>\n",
       "      <td>0.0</td>\n",
       "    </tr>\n",
       "    <tr>\n",
       "      <th>3</th>\n",
       "      <td>a887515</td>\n",
       "      <td>Collection</td>\n",
       "      <td>Collection</td>\n",
       "      <td>2022-01-11</td>\n",
       "      <td>2022</td>\n",
       "      <td>2022-01-11</td>\n",
       "      <td>2022</td>\n",
       "      <td>Formal Retail Action</td>\n",
       "      <td>Men's Fashion</td>\n",
       "      <td>Retail</td>\n",
       "      <td>In store</td>\n",
       "      <td>Social Gathering</td>\n",
       "      <td>c58792918</td>\n",
       "      <td>1</td>\n",
       "      <td>1</td>\n",
       "      <td>0.0</td>\n",
       "    </tr>\n",
       "    <tr>\n",
       "      <th>4</th>\n",
       "      <td>a233620</td>\n",
       "      <td>Collection</td>\n",
       "      <td>Collection</td>\n",
       "      <td>2021-05-27</td>\n",
       "      <td>2021</td>\n",
       "      <td>2021-06-21</td>\n",
       "      <td>2021</td>\n",
       "      <td>Mid-Season Jewelry and Timepieces</td>\n",
       "      <td>Timepieces and Jewelry</td>\n",
       "      <td>Retail</td>\n",
       "      <td>0</td>\n",
       "      <td>Exclusive Offer</td>\n",
       "      <td>c34394230</td>\n",
       "      <td>1</td>\n",
       "      <td>1</td>\n",
       "      <td>0.0</td>\n",
       "    </tr>\n",
       "    <tr>\n",
       "      <th>...</th>\n",
       "      <td>...</td>\n",
       "      <td>...</td>\n",
       "      <td>...</td>\n",
       "      <td>...</td>\n",
       "      <td>...</td>\n",
       "      <td>...</td>\n",
       "      <td>...</td>\n",
       "      <td>...</td>\n",
       "      <td>...</td>\n",
       "      <td>...</td>\n",
       "      <td>...</td>\n",
       "      <td>...</td>\n",
       "      <td>...</td>\n",
       "      <td>...</td>\n",
       "      <td>...</td>\n",
       "      <td>...</td>\n",
       "    </tr>\n",
       "    <tr>\n",
       "      <th>9995</th>\n",
       "      <td>a970430</td>\n",
       "      <td>Collection</td>\n",
       "      <td>Collection</td>\n",
       "      <td>2021-07-15</td>\n",
       "      <td>2021</td>\n",
       "      <td>2021-07-17</td>\n",
       "      <td>2021</td>\n",
       "      <td>Fall Collection</td>\n",
       "      <td>Women's Fashion</td>\n",
       "      <td>Retail</td>\n",
       "      <td>0</td>\n",
       "      <td>Exclusive Offer</td>\n",
       "      <td>c63326165</td>\n",
       "      <td>0</td>\n",
       "      <td>1</td>\n",
       "      <td>8.0</td>\n",
       "    </tr>\n",
       "    <tr>\n",
       "      <th>9996</th>\n",
       "      <td>a970430</td>\n",
       "      <td>Collection</td>\n",
       "      <td>Collection</td>\n",
       "      <td>2021-07-15</td>\n",
       "      <td>2021</td>\n",
       "      <td>2021-07-17</td>\n",
       "      <td>2021</td>\n",
       "      <td>Fall Collection</td>\n",
       "      <td>Women's Fashion</td>\n",
       "      <td>Retail</td>\n",
       "      <td>0</td>\n",
       "      <td>Exclusive Offer</td>\n",
       "      <td>c63246368</td>\n",
       "      <td>0</td>\n",
       "      <td>1</td>\n",
       "      <td>7.0</td>\n",
       "    </tr>\n",
       "    <tr>\n",
       "      <th>9997</th>\n",
       "      <td>a970430</td>\n",
       "      <td>Collection</td>\n",
       "      <td>Collection</td>\n",
       "      <td>2021-07-15</td>\n",
       "      <td>2021</td>\n",
       "      <td>2021-07-17</td>\n",
       "      <td>2021</td>\n",
       "      <td>Fall Collection</td>\n",
       "      <td>Women's Fashion</td>\n",
       "      <td>Retail</td>\n",
       "      <td>0</td>\n",
       "      <td>Exclusive Offer</td>\n",
       "      <td>c14103687</td>\n",
       "      <td>0</td>\n",
       "      <td>1</td>\n",
       "      <td>4.0</td>\n",
       "    </tr>\n",
       "    <tr>\n",
       "      <th>9998</th>\n",
       "      <td>a970430</td>\n",
       "      <td>Collection</td>\n",
       "      <td>Collection</td>\n",
       "      <td>2021-07-15</td>\n",
       "      <td>2021</td>\n",
       "      <td>2021-07-17</td>\n",
       "      <td>2021</td>\n",
       "      <td>Fall Collection</td>\n",
       "      <td>Women's Fashion</td>\n",
       "      <td>Retail</td>\n",
       "      <td>0</td>\n",
       "      <td>Exclusive Offer</td>\n",
       "      <td>c93496667</td>\n",
       "      <td>0</td>\n",
       "      <td>1</td>\n",
       "      <td>5.0</td>\n",
       "    </tr>\n",
       "    <tr>\n",
       "      <th>9999</th>\n",
       "      <td>a970430</td>\n",
       "      <td>Collection</td>\n",
       "      <td>Collection</td>\n",
       "      <td>2021-07-15</td>\n",
       "      <td>2021</td>\n",
       "      <td>2021-07-17</td>\n",
       "      <td>2021</td>\n",
       "      <td>Fall Collection</td>\n",
       "      <td>Women's Fashion</td>\n",
       "      <td>Retail</td>\n",
       "      <td>0</td>\n",
       "      <td>Exclusive Offer</td>\n",
       "      <td>c77180628</td>\n",
       "      <td>0</td>\n",
       "      <td>1</td>\n",
       "      <td>1.0</td>\n",
       "    </tr>\n",
       "  </tbody>\n",
       "</table>\n",
       "<p>10000 rows × 16 columns</p>\n",
       "</div>"
      ],
      "text/plain": [
       "     action_id action_type_label action_subcategory_label action_start_date  \\\n",
       "0      a654760        Collection               Collection        2022-04-07   \n",
       "1      a979979        Collection               Collection        2021-10-20   \n",
       "2      a803469        Collection               Collection        2020-10-29   \n",
       "3      a887515        Collection               Collection        2022-01-11   \n",
       "4      a233620        Collection               Collection        2021-05-27   \n",
       "...        ...               ...                      ...               ...   \n",
       "9995   a970430        Collection               Collection        2021-07-15   \n",
       "9996   a970430        Collection               Collection        2021-07-15   \n",
       "9997   a970430        Collection               Collection        2021-07-15   \n",
       "9998   a970430        Collection               Collection        2021-07-15   \n",
       "9999   a970430        Collection               Collection        2021-07-15   \n",
       "\n",
       "      action_year action_end_date  action_collection_year  \\\n",
       "0            2022      2022-04-11                    2022   \n",
       "1            2021      2021-10-21                    2021   \n",
       "2            2020      2020-10-29                    2020   \n",
       "3            2022      2022-01-11                    2022   \n",
       "4            2021      2021-06-21                    2021   \n",
       "...           ...             ...                     ...   \n",
       "9995         2021      2021-07-17                    2021   \n",
       "9996         2021      2021-07-17                    2021   \n",
       "9997         2021      2021-07-17                    2021   \n",
       "9998         2021      2021-07-17                    2021   \n",
       "9999         2021      2021-07-17                    2021   \n",
       "\n",
       "                      action_collection         action_universe  \\\n",
       "0     Mid-Season Jewelry and Timepieces  Timepieces and Jewelry   \n",
       "1                     Sailor Collection         Women's Fashion   \n",
       "2                     Spring Collection           Men's Fashion   \n",
       "3                  Formal Retail Action           Men's Fashion   \n",
       "4     Mid-Season Jewelry and Timepieces  Timepieces and Jewelry   \n",
       "...                                 ...                     ...   \n",
       "9995                    Fall Collection         Women's Fashion   \n",
       "9996                    Fall Collection         Women's Fashion   \n",
       "9997                    Fall Collection         Women's Fashion   \n",
       "9998                    Fall Collection         Women's Fashion   \n",
       "9999                    Fall Collection         Women's Fashion   \n",
       "\n",
       "     action_category_label action_channel      action_label  client_id  \\\n",
       "0                   Retail       In store   Exclusive Offer  c23083988   \n",
       "1                   Retail       In store   Exclusive Offer  c40865409   \n",
       "2                   Retail       In store  Social Gathering  c95435465   \n",
       "3                   Retail       In store  Social Gathering  c58792918   \n",
       "4                   Retail              0   Exclusive Offer  c34394230   \n",
       "...                    ...            ...               ...        ...   \n",
       "9995                Retail              0   Exclusive Offer  c63326165   \n",
       "9996                Retail              0   Exclusive Offer  c63246368   \n",
       "9997                Retail              0   Exclusive Offer  c14103687   \n",
       "9998                Retail              0   Exclusive Offer  c93496667   \n",
       "9999                Retail              0   Exclusive Offer  c77180628   \n",
       "\n",
       "      client_is_present  client_is_invited  gross_amount_euro  \n",
       "0                     1                  1                0.0  \n",
       "1                     1                  1                0.0  \n",
       "2                     1                  1                0.0  \n",
       "3                     1                  1                0.0  \n",
       "4                     1                  1                0.0  \n",
       "...                 ...                ...                ...  \n",
       "9995                  0                  1                8.0  \n",
       "9996                  0                  1                7.0  \n",
       "9997                  0                  1                4.0  \n",
       "9998                  0                  1                5.0  \n",
       "9999                  0                  1                1.0  \n",
       "\n",
       "[10000 rows x 16 columns]"
      ]
     },
     "execution_count": 174,
     "metadata": {},
     "output_type": "execute_result"
    }
   ],
   "source": [
    "merged_df"
   ]
  },
  {
   "cell_type": "code",
   "execution_count": null,
   "metadata": {},
   "outputs": [],
   "source": []
  },
  {
   "cell_type": "code",
   "execution_count": 175,
   "metadata": {},
   "outputs": [
    {
     "data": {
      "text/plain": [
       "8871"
      ]
     },
     "execution_count": 175,
     "metadata": {},
     "output_type": "execute_result"
    }
   ],
   "source": [
    "merged_df['client_id'].nunique()"
   ]
  },
  {
   "cell_type": "markdown",
   "metadata": {},
   "source": [
    "### number of clients present"
   ]
  },
  {
   "cell_type": "code",
   "execution_count": 177,
   "metadata": {},
   "outputs": [
    {
     "data": {
      "text/plain": [
       "4508"
      ]
     },
     "execution_count": 177,
     "metadata": {},
     "output_type": "execute_result"
    }
   ],
   "source": [
    "merged_df[merged_df['client_is_present'] == 1].client_id.nunique()"
   ]
  },
  {
   "cell_type": "markdown",
   "metadata": {},
   "source": [
    "### number of clients who were present to event and made a transaction of positive amount: 2651"
   ]
  },
  {
   "cell_type": "code",
   "execution_count": 178,
   "metadata": {},
   "outputs": [],
   "source": [
    "clients_present_transac = merged_df[(merged_df['client_is_present'] == 1) & (merged_df['gross_amount_euro'] > 0)]"
   ]
  },
  {
   "cell_type": "code",
   "execution_count": 179,
   "metadata": {},
   "outputs": [
    {
     "data": {
      "text/plain": [
       "2651"
      ]
     },
     "execution_count": 179,
     "metadata": {},
     "output_type": "execute_result"
    }
   ],
   "source": [
    "clients_present_transac['client_id'].nunique()"
   ]
  },
  {
   "cell_type": "markdown",
   "metadata": {},
   "source": [
    "### number of clients who were present to event and made no transaction= 64"
   ]
  },
  {
   "cell_type": "code",
   "execution_count": 182,
   "metadata": {},
   "outputs": [],
   "source": [
    "clients_present_notransac = merged_df[(merged_df['client_is_present'] == 1) & (merged_df['gross_amount_euro'] == 0)]"
   ]
  },
  {
   "cell_type": "code",
   "execution_count": 183,
   "metadata": {},
   "outputs": [
    {
     "data": {
      "text/plain": [
       "1857"
      ]
     },
     "execution_count": 183,
     "metadata": {},
     "output_type": "execute_result"
    }
   ],
   "source": [
    "clients_present_notransac['client_id'].nunique()"
   ]
  },
  {
   "cell_type": "markdown",
   "metadata": {},
   "source": [
    "### bar plot: proportion of clients present "
   ]
  },
  {
   "cell_type": "code",
   "execution_count": 199,
   "metadata": {},
   "outputs": [],
   "source": [
    "heights = [merged_df[merged_df['client_is_present'] == 1].client_id.nunique(), clients_present_transac['client_id'].nunique(), clients_present_notransac['client_id'].nunique()]"
   ]
  },
  {
   "cell_type": "code",
   "execution_count": 197,
   "metadata": {},
   "outputs": [],
   "source": [
    "to_plot = ['Clients present', 'Present & Transaction > 0', 'No transaction']"
   ]
  },
  {
   "cell_type": "code",
   "execution_count": 213,
   "metadata": {},
   "outputs": [
    {
     "data": {
      "text/plain": [
       "[Text(0, 0, '4,508'), Text(0, 0, '2,651'), Text(0, 0, '1,857')]"
      ]
     },
     "execution_count": 213,
     "metadata": {},
     "output_type": "execute_result"
    },
    {
     "data": {
      "image/png": "[encoded data removed]",
      "text/plain": [
       "<Figure size 640x480 with 1 Axes>"
      ]
     },
     "metadata": {},
     "output_type": "display_data"
    }
   ],
   "source": [
    "fig, ax = plt.subplots()\n",
    "bar_container = ax.bar(to_plot, heights, color=['green', 'grey', 'grey'])\n",
    "ax.set(ylabel='Unique clients', title='Number of clients who were present and transactional behavior', ylim=(0, 8000))\n",
    "ax.bar_label(bar_container, fmt='{:,.0f}')"
   ]
  },
  {
   "cell_type": "markdown",
   "metadata": {},
   "source": [
    "## bar plot big"
   ]
  },
  {
   "cell_type": "code",
   "execution_count": 214,
   "metadata": {},
   "outputs": [],
   "source": [
    "to_plot2 = ['Total Clients', 'Presence == 1', 'Presence == 0']\n",
    "heights2 = [merged_df['client_id'].nunique(), merged_df[merged_df['client_is_present'] == 1].client_id.nunique(),\n",
    "            merged_df[merged_df['client_is_present'] == 0].client_id.nunique()]"
   ]
  },
  {
   "cell_type": "code",
   "execution_count": 223,
   "metadata": {},
   "outputs": [
    {
     "data": {
      "text/plain": [
       "[Text(0, 0, '8,871'), Text(0, 0, '4,508'), Text(0, 0, '4,423')]"
      ]
     },
     "execution_count": 223,
     "metadata": {},
     "output_type": "execute_result"
    },
    {
     "data": {
      "image/png": "[encoded data removed]",
      "text/plain": [
       "<Figure size 640x480 with 1 Axes>"
      ]
     },
     "metadata": {},
     "output_type": "display_data"
    }
   ],
   "source": [
    "fig, ax = plt.subplots()\n",
    "bar_container = ax.bar(to_plot2, heights2, color=['green', 'grey', 'grey'])\n",
    "ax.set(ylabel='Unique clients', title='Client transactional behavior and presence to event', ylim=(0, 10000))\n",
    "ax.bar_label(bar_container, fmt='{:,.0f}')"
   ]
  },
  {
   "cell_type": "code",
   "execution_count": 225,
   "metadata": {},
   "outputs": [
    {
     "data": {
      "text/plain": [
       "4880"
      ]
     },
     "execution_count": 225,
     "metadata": {},
     "output_type": "execute_result"
    }
   ],
   "source": [
    "merged_df[merged_df['gross_amount_euro']==0].client_id.nunique()"
   ]
  },
  {
   "cell_type": "code",
   "execution_count": 227,
   "metadata": {},
   "outputs": [
    {
     "data": {
      "image/png": "[encoded data removed]",
      "text/plain": [
       "<Figure size 640x480 with 1 Axes>"
      ]
     },
     "metadata": {},
     "output_type": "display_data"
    }
   ],
   "source": [
    "transactions_counts = {\n",
    "    'Transaction': np.array([3991, 2651, 1394]),\n",
    "    'No Transaction': np.array([4880, 1857, 3029]),\n",
    "}\n",
    "\n",
    "fig, ax = plt.subplots()\n",
    "bottom = np.zeros(3)\n",
    "\n",
    "for transac, transac_count in transactions_counts.items():\n",
    "    p = ax.bar(to_plot2, transac_count, label=transac, bottom=bottom)\n",
    "    bottom += transac_count\n",
    "\n",
    "    ax.bar_label(p, label_type='center')\n",
    "\n",
    "ax.set_title('Number of penguins by sex')\n",
    "ax.legend()\n",
    "\n",
    "plt.show()"
   ]
  },
  {
   "cell_type": "code",
   "execution_count": 220,
   "metadata": {},
   "outputs": [
    {
     "data": {
      "text/plain": [
       "[8871, 4508, 4423]"
      ]
     },
     "execution_count": 220,
     "metadata": {},
     "output_type": "execute_result"
    }
   ],
   "source": [
    "heights2"
   ]
  },
  {
   "cell_type": "code",
   "execution_count": 219,
   "metadata": {},
   "outputs": [
    {
     "data": {
      "text/plain": [
       "client_is_present\n",
       "1    5437\n",
       "0    4563\n",
       "Name: count, dtype: int64"
      ]
     },
     "execution_count": 219,
     "metadata": {},
     "output_type": "execute_result"
    }
   ],
   "source": [
    "merged_df['client_is_present'].value_counts()"
   ]
  },
  {
   "cell_type": "code",
   "execution_count": 216,
   "metadata": {},
   "outputs": [
    {
     "data": {
      "text/plain": [
       "8931"
      ]
     },
     "execution_count": 216,
     "metadata": {},
     "output_type": "execute_result"
    }
   ],
   "source": [
    "4423 + 4508"
   ]
  },
  {
   "cell_type": "markdown",
   "metadata": {},
   "source": [
    "### number of clients who were not present to event and made a transac = 1394"
   ]
  },
  {
   "cell_type": "code",
   "execution_count": 185,
   "metadata": {},
   "outputs": [],
   "source": [
    "clients_notpresent_transac = merged_df[(merged_df['client_is_present'] == 0) & (merged_df['gross_amount_euro'] > 0)]"
   ]
  },
  {
   "cell_type": "code",
   "execution_count": 186,
   "metadata": {},
   "outputs": [
    {
     "data": {
      "text/plain": [
       "1394"
      ]
     },
     "execution_count": 186,
     "metadata": {},
     "output_type": "execute_result"
    }
   ],
   "source": [
    "clients_notpresent_transac['client_id'].nunique()"
   ]
  },
  {
   "cell_type": "markdown",
   "metadata": {},
   "source": [
    "### number of clients who were not present to event and made no transaction= 27"
   ]
  },
  {
   "cell_type": "code",
   "execution_count": 187,
   "metadata": {},
   "outputs": [],
   "source": [
    "clients_notpresent_notransac = merged_df[(merged_df['client_is_present'] == 0) & (merged_df['gross_amount_euro'] == 0)]"
   ]
  },
  {
   "cell_type": "code",
   "execution_count": 188,
   "metadata": {},
   "outputs": [
    {
     "data": {
      "text/plain": [
       "3029"
      ]
     },
     "execution_count": 188,
     "metadata": {},
     "output_type": "execute_result"
    }
   ],
   "source": [
    "clients_notpresent_notransac['client_id'].nunique()"
   ]
  },
  {
   "cell_type": "code",
   "execution_count": 189,
   "metadata": {},
   "outputs": [
    {
     "data": {
      "text/plain": [
       "8871"
      ]
     },
     "execution_count": 189,
     "metadata": {},
     "output_type": "execute_result"
    }
   ],
   "source": [
    "merged_df['client_id'].nunique()"
   ]
  },
  {
   "cell_type": "code",
   "execution_count": 190,
   "metadata": {},
   "outputs": [
    {
     "data": {
      "text/plain": [
       "(10000, 16)"
      ]
     },
     "execution_count": 190,
     "metadata": {},
     "output_type": "execute_result"
    }
   ],
   "source": [
    "merged_df.shape"
   ]
  },
  {
   "cell_type": "code",
   "execution_count": null,
   "metadata": {},
   "outputs": [],
   "source": []
  }
 ],
 "metadata": {
  "kernelspec": {
   "display_name": "eleven_project",
   "language": "python",
   "name": "python3"
  },
  "language_info": {
   "codemirror_mode": {
    "name": "ipython",
    "version": 3
   },
   "file_extension": ".py",
   "mimetype": "text/x-python",
   "name": "python",
   "nbconvert_exporter": "python",
   "pygments_lexer": "ipython3",
   "version": "3.10.6"
  }
 },
 "nbformat": 4,
 "nbformat_minor": 2
}
