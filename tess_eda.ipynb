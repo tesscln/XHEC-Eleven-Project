{
 "cells": [
  {
   "cell_type": "markdown",
   "metadata": {},
   "source": [
    "## EDA\n",
    "\n",
    "### Loading libraries"
   ]
  },
  {
   "cell_type": "code",
   "execution_count": 1,
   "metadata": {},
   "outputs": [],
   "source": [
    "import pandas as pd\n",
    "import matplotlib.pyplot as plt\n",
    "import seaborn as sns\n",
    "import numpy as np"
   ]
  },
  {
   "cell_type": "code",
   "execution_count": 2,
   "metadata": {},
   "outputs": [],
   "source": [
    "actions = pd.read_excel(\"data/actions.xlsx\")"
   ]
  },
  {
   "cell_type": "code",
   "execution_count": 3,
   "metadata": {},
   "outputs": [
    {
     "data": {
      "text/html": [
       "<div>\n",
       "<style scoped>\n",
       "    .dataframe tbody tr th:only-of-type {\n",
       "        vertical-align: middle;\n",
       "    }\n",
       "\n",
       "    .dataframe tbody tr th {\n",
       "        vertical-align: top;\n",
       "    }\n",
       "\n",
       "    .dataframe thead th {\n",
       "        text-align: right;\n",
       "    }\n",
       "</style>\n",
       "<table border=\"1\" class=\"dataframe\">\n",
       "  <thead>\n",
       "    <tr style=\"text-align: right;\">\n",
       "      <th></th>\n",
       "      <th>action_id</th>\n",
       "      <th>action_type_label</th>\n",
       "      <th>action_subcategory_label</th>\n",
       "      <th>action_start_date</th>\n",
       "      <th>action_year</th>\n",
       "      <th>action_end_date</th>\n",
       "      <th>action_collection_year</th>\n",
       "      <th>action_collection</th>\n",
       "      <th>action_universe</th>\n",
       "      <th>action_category_label</th>\n",
       "      <th>action_channel</th>\n",
       "      <th>action_label</th>\n",
       "      <th>client_id</th>\n",
       "      <th>client_is_present</th>\n",
       "      <th>client_is_invited</th>\n",
       "    </tr>\n",
       "  </thead>\n",
       "  <tbody>\n",
       "    <tr>\n",
       "      <th>0</th>\n",
       "      <td>a654760</td>\n",
       "      <td>Collection</td>\n",
       "      <td>Collection</td>\n",
       "      <td>2022-04-07</td>\n",
       "      <td>2022</td>\n",
       "      <td>2022-04-11</td>\n",
       "      <td>2022</td>\n",
       "      <td>Mid-Season Jewelry and Timepieces</td>\n",
       "      <td>Timepieces and Jewelry</td>\n",
       "      <td>Retail</td>\n",
       "      <td>In store</td>\n",
       "      <td>Exclusive Offer</td>\n",
       "      <td>c23083988</td>\n",
       "      <td>1</td>\n",
       "      <td>1</td>\n",
       "    </tr>\n",
       "    <tr>\n",
       "      <th>1</th>\n",
       "      <td>a979979</td>\n",
       "      <td>Collection</td>\n",
       "      <td>Collection</td>\n",
       "      <td>2021-10-20</td>\n",
       "      <td>2021</td>\n",
       "      <td>2021-10-21</td>\n",
       "      <td>2021</td>\n",
       "      <td>Sailor Collection</td>\n",
       "      <td>Women's Fashion</td>\n",
       "      <td>Retail</td>\n",
       "      <td>In store</td>\n",
       "      <td>Exclusive Offer</td>\n",
       "      <td>c40865409</td>\n",
       "      <td>1</td>\n",
       "      <td>1</td>\n",
       "    </tr>\n",
       "    <tr>\n",
       "      <th>2</th>\n",
       "      <td>a803469</td>\n",
       "      <td>Collection</td>\n",
       "      <td>Collection</td>\n",
       "      <td>2020-10-29</td>\n",
       "      <td>2020</td>\n",
       "      <td>2020-10-29</td>\n",
       "      <td>2020</td>\n",
       "      <td>Spring Collection</td>\n",
       "      <td>Men's Fashion</td>\n",
       "      <td>Retail</td>\n",
       "      <td>In store</td>\n",
       "      <td>Social Gathering</td>\n",
       "      <td>c95435465</td>\n",
       "      <td>1</td>\n",
       "      <td>1</td>\n",
       "    </tr>\n",
       "    <tr>\n",
       "      <th>3</th>\n",
       "      <td>a887515</td>\n",
       "      <td>Collection</td>\n",
       "      <td>Collection</td>\n",
       "      <td>2022-01-11</td>\n",
       "      <td>2022</td>\n",
       "      <td>2022-01-11</td>\n",
       "      <td>2022</td>\n",
       "      <td>Formal Retail Action</td>\n",
       "      <td>Men's Fashion</td>\n",
       "      <td>Retail</td>\n",
       "      <td>In store</td>\n",
       "      <td>Social Gathering</td>\n",
       "      <td>c58792918</td>\n",
       "      <td>1</td>\n",
       "      <td>1</td>\n",
       "    </tr>\n",
       "    <tr>\n",
       "      <th>4</th>\n",
       "      <td>a233620</td>\n",
       "      <td>Collection</td>\n",
       "      <td>Collection</td>\n",
       "      <td>2021-05-27</td>\n",
       "      <td>2021</td>\n",
       "      <td>2021-06-21</td>\n",
       "      <td>2021</td>\n",
       "      <td>Mid-Season Jewelry and Timepieces</td>\n",
       "      <td>Timepieces and Jewelry</td>\n",
       "      <td>Retail</td>\n",
       "      <td>NaN</td>\n",
       "      <td>Exclusive Offer</td>\n",
       "      <td>c34394230</td>\n",
       "      <td>1</td>\n",
       "      <td>1</td>\n",
       "    </tr>\n",
       "  </tbody>\n",
       "</table>\n",
       "</div>"
      ],
      "text/plain": [
       "  action_id action_type_label action_subcategory_label action_start_date  \\\n",
       "0   a654760        Collection               Collection        2022-04-07   \n",
       "1   a979979        Collection               Collection        2021-10-20   \n",
       "2   a803469        Collection               Collection        2020-10-29   \n",
       "3   a887515        Collection               Collection        2022-01-11   \n",
       "4   a233620        Collection               Collection        2021-05-27   \n",
       "\n",
       "   action_year action_end_date  action_collection_year  \\\n",
       "0         2022      2022-04-11                    2022   \n",
       "1         2021      2021-10-21                    2021   \n",
       "2         2020      2020-10-29                    2020   \n",
       "3         2022      2022-01-11                    2022   \n",
       "4         2021      2021-06-21                    2021   \n",
       "\n",
       "                   action_collection         action_universe  \\\n",
       "0  Mid-Season Jewelry and Timepieces  Timepieces and Jewelry   \n",
       "1                  Sailor Collection         Women's Fashion   \n",
       "2                  Spring Collection           Men's Fashion   \n",
       "3               Formal Retail Action           Men's Fashion   \n",
       "4  Mid-Season Jewelry and Timepieces  Timepieces and Jewelry   \n",
       "\n",
       "  action_category_label action_channel      action_label  client_id  \\\n",
       "0                Retail       In store   Exclusive Offer  c23083988   \n",
       "1                Retail       In store   Exclusive Offer  c40865409   \n",
       "2                Retail       In store  Social Gathering  c95435465   \n",
       "3                Retail       In store  Social Gathering  c58792918   \n",
       "4                Retail            NaN   Exclusive Offer  c34394230   \n",
       "\n",
       "   client_is_present  client_is_invited  \n",
       "0                  1                  1  \n",
       "1                  1                  1  \n",
       "2                  1                  1  \n",
       "3                  1                  1  \n",
       "4                  1                  1  "
      ]
     },
     "execution_count": 3,
     "metadata": {},
     "output_type": "execute_result"
    }
   ],
   "source": [
    "actions.head()"
   ]
  },
  {
   "cell_type": "code",
   "execution_count": 4,
   "metadata": {},
   "outputs": [],
   "source": [
    "clients = pd.read_excel('data/clients.xlsx')"
   ]
  },
  {
   "cell_type": "code",
   "execution_count": 5,
   "metadata": {},
   "outputs": [
    {
     "data": {
      "text/html": [
       "<div>\n",
       "<style scoped>\n",
       "    .dataframe tbody tr th:only-of-type {\n",
       "        vertical-align: middle;\n",
       "    }\n",
       "\n",
       "    .dataframe tbody tr th {\n",
       "        vertical-align: top;\n",
       "    }\n",
       "\n",
       "    .dataframe thead th {\n",
       "        text-align: right;\n",
       "    }\n",
       "</style>\n",
       "<table border=\"1\" class=\"dataframe\">\n",
       "  <thead>\n",
       "    <tr style=\"text-align: right;\">\n",
       "      <th></th>\n",
       "      <th>client_id</th>\n",
       "      <th>client_country</th>\n",
       "      <th>client_gender</th>\n",
       "      <th>client_nationality</th>\n",
       "      <th>client_city</th>\n",
       "      <th>client_premium_status</th>\n",
       "      <th>client_is_phone_contactable</th>\n",
       "      <th>client_is_email_contactable</th>\n",
       "      <th>client_is_instant_messaging_contactable</th>\n",
       "      <th>client_is_contactable</th>\n",
       "    </tr>\n",
       "  </thead>\n",
       "  <tbody>\n",
       "    <tr>\n",
       "      <th>0</th>\n",
       "      <td>c41404743</td>\n",
       "      <td>BN</td>\n",
       "      <td>NaN</td>\n",
       "      <td>NaN</td>\n",
       "      <td>NaN</td>\n",
       "      <td>0</td>\n",
       "      <td>0</td>\n",
       "      <td>0</td>\n",
       "      <td>1</td>\n",
       "      <td>1</td>\n",
       "    </tr>\n",
       "    <tr>\n",
       "      <th>1</th>\n",
       "      <td>c65630254</td>\n",
       "      <td>CA</td>\n",
       "      <td>NaN</td>\n",
       "      <td>NaN</td>\n",
       "      <td>NaN</td>\n",
       "      <td>0</td>\n",
       "      <td>0</td>\n",
       "      <td>0</td>\n",
       "      <td>1</td>\n",
       "      <td>1</td>\n",
       "    </tr>\n",
       "    <tr>\n",
       "      <th>2</th>\n",
       "      <td>c89796498</td>\n",
       "      <td>NL</td>\n",
       "      <td>NaN</td>\n",
       "      <td>NaN</td>\n",
       "      <td>NaN</td>\n",
       "      <td>0</td>\n",
       "      <td>0</td>\n",
       "      <td>0</td>\n",
       "      <td>1</td>\n",
       "      <td>1</td>\n",
       "    </tr>\n",
       "    <tr>\n",
       "      <th>3</th>\n",
       "      <td>c03959902</td>\n",
       "      <td>SE</td>\n",
       "      <td>NaN</td>\n",
       "      <td>NaN</td>\n",
       "      <td>NaN</td>\n",
       "      <td>0</td>\n",
       "      <td>0</td>\n",
       "      <td>0</td>\n",
       "      <td>1</td>\n",
       "      <td>1</td>\n",
       "    </tr>\n",
       "    <tr>\n",
       "      <th>4</th>\n",
       "      <td>c39809280</td>\n",
       "      <td>BG</td>\n",
       "      <td>NaN</td>\n",
       "      <td>NaN</td>\n",
       "      <td>NaN</td>\n",
       "      <td>0</td>\n",
       "      <td>0</td>\n",
       "      <td>0</td>\n",
       "      <td>1</td>\n",
       "      <td>1</td>\n",
       "    </tr>\n",
       "  </tbody>\n",
       "</table>\n",
       "</div>"
      ],
      "text/plain": [
       "   client_id client_country client_gender client_nationality client_city  \\\n",
       "0  c41404743             BN           NaN                NaN         NaN   \n",
       "1  c65630254             CA           NaN                NaN         NaN   \n",
       "2  c89796498             NL           NaN                NaN         NaN   \n",
       "3  c03959902             SE           NaN                NaN         NaN   \n",
       "4  c39809280             BG           NaN                NaN         NaN   \n",
       "\n",
       "   client_premium_status  client_is_phone_contactable  \\\n",
       "0                      0                            0   \n",
       "1                      0                            0   \n",
       "2                      0                            0   \n",
       "3                      0                            0   \n",
       "4                      0                            0   \n",
       "\n",
       "   client_is_email_contactable  client_is_instant_messaging_contactable  \\\n",
       "0                            0                                        1   \n",
       "1                            0                                        1   \n",
       "2                            0                                        1   \n",
       "3                            0                                        1   \n",
       "4                            0                                        1   \n",
       "\n",
       "   client_is_contactable  \n",
       "0                      1  \n",
       "1                      1  \n",
       "2                      1  \n",
       "3                      1  \n",
       "4                      1  "
      ]
     },
     "execution_count": 5,
     "metadata": {},
     "output_type": "execute_result"
    }
   ],
   "source": [
    "clients.head()"
   ]
  },
  {
   "cell_type": "code",
   "execution_count": 6,
   "metadata": {},
   "outputs": [],
   "source": [
    "transactions = pd.read_excel('data/transactions.xlsx')"
   ]
  },
  {
   "cell_type": "code",
   "execution_count": 7,
   "metadata": {},
   "outputs": [
    {
     "data": {
      "text/html": [
       "<div>\n",
       "<style scoped>\n",
       "    .dataframe tbody tr th:only-of-type {\n",
       "        vertical-align: middle;\n",
       "    }\n",
       "\n",
       "    .dataframe tbody tr th {\n",
       "        vertical-align: top;\n",
       "    }\n",
       "\n",
       "    .dataframe thead th {\n",
       "        text-align: right;\n",
       "    }\n",
       "</style>\n",
       "<table border=\"1\" class=\"dataframe\">\n",
       "  <thead>\n",
       "    <tr style=\"text-align: right;\">\n",
       "      <th></th>\n",
       "      <th>client_id</th>\n",
       "      <th>transaction_id</th>\n",
       "      <th>transaction_date</th>\n",
       "      <th>product_quantity</th>\n",
       "      <th>gross_amount_euro</th>\n",
       "      <th>product_category</th>\n",
       "      <th>product_subcategory</th>\n",
       "      <th>product_style</th>\n",
       "    </tr>\n",
       "  </thead>\n",
       "  <tbody>\n",
       "    <tr>\n",
       "      <th>0</th>\n",
       "      <td>c17974679</td>\n",
       "      <td>t11288118</td>\n",
       "      <td>2020-07-25</td>\n",
       "      <td>1</td>\n",
       "      <td>3044</td>\n",
       "      <td>Women Ready-to-Wear</td>\n",
       "      <td>Unknown</td>\n",
       "      <td>Casual Style</td>\n",
       "    </tr>\n",
       "    <tr>\n",
       "      <th>1</th>\n",
       "      <td>c17974679</td>\n",
       "      <td>t93389142</td>\n",
       "      <td>2020-06-20</td>\n",
       "      <td>1</td>\n",
       "      <td>569</td>\n",
       "      <td>Women Accessory</td>\n",
       "      <td>Unknown</td>\n",
       "      <td>Stylish Fashion</td>\n",
       "    </tr>\n",
       "    <tr>\n",
       "      <th>2</th>\n",
       "      <td>c17974679</td>\n",
       "      <td>t62924895</td>\n",
       "      <td>2021-01-13</td>\n",
       "      <td>1</td>\n",
       "      <td>7727</td>\n",
       "      <td>Women Bags</td>\n",
       "      <td>Unknown</td>\n",
       "      <td>Leather</td>\n",
       "    </tr>\n",
       "    <tr>\n",
       "      <th>3</th>\n",
       "      <td>c17974679</td>\n",
       "      <td>t93389142</td>\n",
       "      <td>2020-06-20</td>\n",
       "      <td>1</td>\n",
       "      <td>3954</td>\n",
       "      <td>Women Ready-to-Wear</td>\n",
       "      <td>Unknown</td>\n",
       "      <td>Casual Style</td>\n",
       "    </tr>\n",
       "    <tr>\n",
       "      <th>4</th>\n",
       "      <td>c17974679</td>\n",
       "      <td>t33368160</td>\n",
       "      <td>2021-05-03</td>\n",
       "      <td>1</td>\n",
       "      <td>1541</td>\n",
       "      <td>Women Ready-to-Wear</td>\n",
       "      <td>bottom segment</td>\n",
       "      <td>Casual Style</td>\n",
       "    </tr>\n",
       "  </tbody>\n",
       "</table>\n",
       "</div>"
      ],
      "text/plain": [
       "   client_id transaction_id transaction_date  product_quantity  \\\n",
       "0  c17974679      t11288118       2020-07-25                 1   \n",
       "1  c17974679      t93389142       2020-06-20                 1   \n",
       "2  c17974679      t62924895       2021-01-13                 1   \n",
       "3  c17974679      t93389142       2020-06-20                 1   \n",
       "4  c17974679      t33368160       2021-05-03                 1   \n",
       "\n",
       "   gross_amount_euro     product_category product_subcategory    product_style  \n",
       "0               3044  Women Ready-to-Wear             Unknown     Casual Style  \n",
       "1                569      Women Accessory             Unknown  Stylish Fashion  \n",
       "2               7727           Women Bags             Unknown          Leather  \n",
       "3               3954  Women Ready-to-Wear             Unknown     Casual Style  \n",
       "4               1541  Women Ready-to-Wear      bottom segment     Casual Style  "
      ]
     },
     "execution_count": 7,
     "metadata": {},
     "output_type": "execute_result"
    }
   ],
   "source": [
    "transactions.head()"
   ]
  },
  {
   "cell_type": "markdown",
   "metadata": {},
   "source": [
    "### Dataframes shapes"
   ]
  },
  {
   "cell_type": "code",
   "execution_count": 8,
   "metadata": {},
   "outputs": [
    {
     "name": "stdout",
     "output_type": "stream",
     "text": [
      "The ACTIONS dataframe has 15 features and 10000 entries.\n",
      "The CLIENTS dataframe has 10 features and 28751 entries.\n",
      "The TRANSACTIONS dataframe has 8 features and 54638 entries.\n"
     ]
    }
   ],
   "source": [
    "print(f\"The ACTIONS dataframe has {actions.shape[1]} features and {actions.shape[0]} entries.\")\n",
    "print(f\"The CLIENTS dataframe has {clients.shape[1]} features and {clients.shape[0]} entries.\")\n",
    "print(f\"The TRANSACTIONS dataframe has {transactions.shape[1]} features and {transactions.shape[0]} entries.\")"
   ]
  },
  {
   "cell_type": "markdown",
   "metadata": {},
   "source": [
    "### Unique clients"
   ]
  },
  {
   "cell_type": "code",
   "execution_count": 9,
   "metadata": {},
   "outputs": [
    {
     "name": "stdout",
     "output_type": "stream",
     "text": [
      "Unique clients in TRANSACTIONS dataframe: 13884\n",
      "Unique clients in CLIENTS dataframe: 28751\n",
      "Unique clients in ACTIONS dataframe: 8871\n"
     ]
    }
   ],
   "source": [
    "print(f\"Unique clients in TRANSACTIONS dataframe: {transactions['client_id'].nunique()}\")\n",
    "print(f\"Unique clients in CLIENTS dataframe: {clients['client_id'].nunique()}\")\n",
    "print(f\"Unique clients in ACTIONS dataframe: {actions['client_id'].nunique()}\")"
   ]
  },
  {
   "cell_type": "code",
   "execution_count": 10,
   "metadata": {},
   "outputs": [
    {
     "name": "stdout",
     "output_type": "stream",
     "text": [
      "Percentage of clients having made transactions: 48.3%\n"
     ]
    }
   ],
   "source": [
    "print(f\"Percentage of clients having made transactions: {round(transactions['client_id'].nunique() / clients['client_id'].nunique(), 3)*100}%\")"
   ]
  },
  {
   "cell_type": "code",
   "execution_count": 11,
   "metadata": {},
   "outputs": [
    {
     "name": "stdout",
     "output_type": "stream",
     "text": [
      "Mean transaction amount: 3443.0228778505802\n"
     ]
    }
   ],
   "source": [
    "print(f\"Mean transaction amount: {transactions['gross_amount_euro'].mean()}\")"
   ]
  },
  {
   "cell_type": "code",
   "execution_count": 12,
   "metadata": {},
   "outputs": [
    {
     "name": "stdout",
     "output_type": "stream",
     "text": [
      "Value counts for invited clients in TRANSACTIONS dataframe: \n",
      " \n",
      " client_is_invited\n",
      "1    10000\n",
      "Name: count, dtype: int64\n"
     ]
    }
   ],
   "source": [
    "print(f\"Value counts for invited clients in TRANSACTIONS dataframe: \\n \\n {actions['client_is_invited'].value_counts()}\")"
   ]
  },
  {
   "cell_type": "code",
   "execution_count": 13,
   "metadata": {},
   "outputs": [
    {
     "name": "stdout",
     "output_type": "stream",
     "text": [
      "Value counts for present clients in TRANSACTIONS dataframe: \n",
      " \n",
      " client_is_present\n",
      "1    5437\n",
      "0    4563\n",
      "Name: count, dtype: int64\n"
     ]
    }
   ],
   "source": [
    "print(f\"Value counts for present clients in TRANSACTIONS dataframe: \\n \\n {actions['client_is_present'].value_counts()}\")"
   ]
  },
  {
   "cell_type": "markdown",
   "metadata": {},
   "source": [
    "## Analyzing the behavior of clients who have been invited: presence and transactional behavior."
   ]
  },
  {
   "cell_type": "code",
   "execution_count": 14,
   "metadata": {},
   "outputs": [],
   "source": [
    "transactions_groupedby = transactions.groupby('client_id', as_index=False)['gross_amount_euro'].count()"
   ]
  },
  {
   "cell_type": "code",
   "execution_count": 15,
   "metadata": {},
   "outputs": [],
   "source": [
    "merged_df = pd.merge(left=actions, right=transactions_groupedby, on='client_id', how='left').fillna(0)"
   ]
  },
  {
   "cell_type": "code",
   "execution_count": 16,
   "metadata": {},
   "outputs": [
    {
     "data": {
      "text/html": [
       "<div>\n",
       "<style scoped>\n",
       "    .dataframe tbody tr th:only-of-type {\n",
       "        vertical-align: middle;\n",
       "    }\n",
       "\n",
       "    .dataframe tbody tr th {\n",
       "        vertical-align: top;\n",
       "    }\n",
       "\n",
       "    .dataframe thead th {\n",
       "        text-align: right;\n",
       "    }\n",
       "</style>\n",
       "<table border=\"1\" class=\"dataframe\">\n",
       "  <thead>\n",
       "    <tr style=\"text-align: right;\">\n",
       "      <th></th>\n",
       "      <th>action_id</th>\n",
       "      <th>action_type_label</th>\n",
       "      <th>action_subcategory_label</th>\n",
       "      <th>action_start_date</th>\n",
       "      <th>action_year</th>\n",
       "      <th>action_end_date</th>\n",
       "      <th>action_collection_year</th>\n",
       "      <th>action_collection</th>\n",
       "      <th>action_universe</th>\n",
       "      <th>action_category_label</th>\n",
       "      <th>action_channel</th>\n",
       "      <th>action_label</th>\n",
       "      <th>client_id</th>\n",
       "      <th>client_is_present</th>\n",
       "      <th>client_is_invited</th>\n",
       "      <th>gross_amount_euro</th>\n",
       "    </tr>\n",
       "  </thead>\n",
       "  <tbody>\n",
       "    <tr>\n",
       "      <th>0</th>\n",
       "      <td>a654760</td>\n",
       "      <td>Collection</td>\n",
       "      <td>Collection</td>\n",
       "      <td>2022-04-07</td>\n",
       "      <td>2022</td>\n",
       "      <td>2022-04-11</td>\n",
       "      <td>2022</td>\n",
       "      <td>Mid-Season Jewelry and Timepieces</td>\n",
       "      <td>Timepieces and Jewelry</td>\n",
       "      <td>Retail</td>\n",
       "      <td>In store</td>\n",
       "      <td>Exclusive Offer</td>\n",
       "      <td>c23083988</td>\n",
       "      <td>1</td>\n",
       "      <td>1</td>\n",
       "      <td>0.0</td>\n",
       "    </tr>\n",
       "    <tr>\n",
       "      <th>1</th>\n",
       "      <td>a979979</td>\n",
       "      <td>Collection</td>\n",
       "      <td>Collection</td>\n",
       "      <td>2021-10-20</td>\n",
       "      <td>2021</td>\n",
       "      <td>2021-10-21</td>\n",
       "      <td>2021</td>\n",
       "      <td>Sailor Collection</td>\n",
       "      <td>Women's Fashion</td>\n",
       "      <td>Retail</td>\n",
       "      <td>In store</td>\n",
       "      <td>Exclusive Offer</td>\n",
       "      <td>c40865409</td>\n",
       "      <td>1</td>\n",
       "      <td>1</td>\n",
       "      <td>0.0</td>\n",
       "    </tr>\n",
       "    <tr>\n",
       "      <th>2</th>\n",
       "      <td>a803469</td>\n",
       "      <td>Collection</td>\n",
       "      <td>Collection</td>\n",
       "      <td>2020-10-29</td>\n",
       "      <td>2020</td>\n",
       "      <td>2020-10-29</td>\n",
       "      <td>2020</td>\n",
       "      <td>Spring Collection</td>\n",
       "      <td>Men's Fashion</td>\n",
       "      <td>Retail</td>\n",
       "      <td>In store</td>\n",
       "      <td>Social Gathering</td>\n",
       "      <td>c95435465</td>\n",
       "      <td>1</td>\n",
       "      <td>1</td>\n",
       "      <td>0.0</td>\n",
       "    </tr>\n",
       "    <tr>\n",
       "      <th>3</th>\n",
       "      <td>a887515</td>\n",
       "      <td>Collection</td>\n",
       "      <td>Collection</td>\n",
       "      <td>2022-01-11</td>\n",
       "      <td>2022</td>\n",
       "      <td>2022-01-11</td>\n",
       "      <td>2022</td>\n",
       "      <td>Formal Retail Action</td>\n",
       "      <td>Men's Fashion</td>\n",
       "      <td>Retail</td>\n",
       "      <td>In store</td>\n",
       "      <td>Social Gathering</td>\n",
       "      <td>c58792918</td>\n",
       "      <td>1</td>\n",
       "      <td>1</td>\n",
       "      <td>0.0</td>\n",
       "    </tr>\n",
       "    <tr>\n",
       "      <th>4</th>\n",
       "      <td>a233620</td>\n",
       "      <td>Collection</td>\n",
       "      <td>Collection</td>\n",
       "      <td>2021-05-27</td>\n",
       "      <td>2021</td>\n",
       "      <td>2021-06-21</td>\n",
       "      <td>2021</td>\n",
       "      <td>Mid-Season Jewelry and Timepieces</td>\n",
       "      <td>Timepieces and Jewelry</td>\n",
       "      <td>Retail</td>\n",
       "      <td>0</td>\n",
       "      <td>Exclusive Offer</td>\n",
       "      <td>c34394230</td>\n",
       "      <td>1</td>\n",
       "      <td>1</td>\n",
       "      <td>0.0</td>\n",
       "    </tr>\n",
       "  </tbody>\n",
       "</table>\n",
       "</div>"
      ],
      "text/plain": [
       "  action_id action_type_label action_subcategory_label action_start_date  \\\n",
       "0   a654760        Collection               Collection        2022-04-07   \n",
       "1   a979979        Collection               Collection        2021-10-20   \n",
       "2   a803469        Collection               Collection        2020-10-29   \n",
       "3   a887515        Collection               Collection        2022-01-11   \n",
       "4   a233620        Collection               Collection        2021-05-27   \n",
       "\n",
       "   action_year action_end_date  action_collection_year  \\\n",
       "0         2022      2022-04-11                    2022   \n",
       "1         2021      2021-10-21                    2021   \n",
       "2         2020      2020-10-29                    2020   \n",
       "3         2022      2022-01-11                    2022   \n",
       "4         2021      2021-06-21                    2021   \n",
       "\n",
       "                   action_collection         action_universe  \\\n",
       "0  Mid-Season Jewelry and Timepieces  Timepieces and Jewelry   \n",
       "1                  Sailor Collection         Women's Fashion   \n",
       "2                  Spring Collection           Men's Fashion   \n",
       "3               Formal Retail Action           Men's Fashion   \n",
       "4  Mid-Season Jewelry and Timepieces  Timepieces and Jewelry   \n",
       "\n",
       "  action_category_label action_channel      action_label  client_id  \\\n",
       "0                Retail       In store   Exclusive Offer  c23083988   \n",
       "1                Retail       In store   Exclusive Offer  c40865409   \n",
       "2                Retail       In store  Social Gathering  c95435465   \n",
       "3                Retail       In store  Social Gathering  c58792918   \n",
       "4                Retail              0   Exclusive Offer  c34394230   \n",
       "\n",
       "   client_is_present  client_is_invited  gross_amount_euro  \n",
       "0                  1                  1                0.0  \n",
       "1                  1                  1                0.0  \n",
       "2                  1                  1                0.0  \n",
       "3                  1                  1                0.0  \n",
       "4                  1                  1                0.0  "
      ]
     },
     "execution_count": 16,
     "metadata": {},
     "output_type": "execute_result"
    }
   ],
   "source": [
    "merged_df.head()"
   ]
  },
  {
   "cell_type": "markdown",
   "metadata": {},
   "source": [
    "### Number of clients invited who were present at an event"
   ]
  },
  {
   "cell_type": "code",
   "execution_count": 17,
   "metadata": {},
   "outputs": [
    {
     "data": {
      "text/plain": [
       "4508"
      ]
     },
     "execution_count": 17,
     "metadata": {},
     "output_type": "execute_result"
    }
   ],
   "source": [
    "merged_df[merged_df['client_is_present'] == 1].client_id.nunique()"
   ]
  },
  {
   "cell_type": "code",
   "execution_count": 18,
   "metadata": {},
   "outputs": [
    {
     "name": "stdout",
     "output_type": "stream",
     "text": [
      "Presence == 1 & transaction amount > 0: 2651 \n"
     ]
    }
   ],
   "source": [
    "# Presence == 1 & transaction amount > 0\n",
    "\n",
    "clients_present_transac = merged_df[(merged_df['client_is_present'] == 1) & (merged_df['gross_amount_euro'] > 0)]\n",
    "print(f\"Presence == 1 & transaction amount > 0: {clients_present_transac['client_id'].nunique()} \")"
   ]
  },
  {
   "cell_type": "code",
   "execution_count": 19,
   "metadata": {},
   "outputs": [
    {
     "name": "stdout",
     "output_type": "stream",
     "text": [
      "Presence == 1 & no transaction: 1857\n"
     ]
    }
   ],
   "source": [
    "# Presence == 1 & no transaction\n",
    "\n",
    "clients_present_notransac = merged_df[(merged_df['client_is_present'] == 1) & (merged_df['gross_amount_euro'] == 0)]\n",
    "print(f\"Presence == 1 & no transaction: {clients_present_notransac['client_id'].nunique()}\")"
   ]
  },
  {
   "cell_type": "markdown",
   "metadata": {},
   "source": [
    "## Bar plot"
   ]
  },
  {
   "cell_type": "code",
   "execution_count": 20,
   "metadata": {},
   "outputs": [
    {
     "data": {
      "image/png": "[encoded data removed]",
      "text/plain": [
       "<Figure size 640x480 with 1 Axes>"
      ]
     },
     "metadata": {},
     "output_type": "display_data"
    }
   ],
   "source": [
    "to_plot = ['Total Clients invited', 'Presence == 1', 'Presence == 0']\n",
    "heights = [merged_df['client_id'].nunique(), merged_df[merged_df['client_is_present'] == 1].client_id.nunique(),\n",
    "            merged_df[merged_df['client_is_present'] == 0].client_id.nunique()]\n",
    "\n",
    "transactions_counts = {\n",
    "    'Transaction': np.array([3991, 2651, 1394]),\n",
    "    'No Transaction': np.array([4880, 1857, 3029]),\n",
    "}\n",
    "\n",
    "fig, ax = plt.subplots()\n",
    "bottom = np.zeros(3)\n",
    "\n",
    "bar_colors = {\n",
    "    'Transaction': 'forestgreen',\n",
    "    'No Transaction': 'dimgrey' \n",
    "}\n",
    "\n",
    "for transac, transac_count in transactions_counts.items():\n",
    "    p = ax.bar(to_plot, transac_count, label=transac, bottom=bottom, color=bar_colors[transac])\n",
    "    bottom += transac_count\n",
    "\n",
    "    ax.bar_label(p, label_type='center')\n",
    "\n",
    "ax.set_title('Client transactional behavior and presence to event when invited')\n",
    "ax.set_ylabel('Number of unique clients')\n",
    "ax.legend()\n",
    "\n",
    "plt.show()"
   ]
  },
  {
   "cell_type": "markdown",
   "metadata": {},
   "source": [
    "## Clients EDA"
   ]
  },
  {
   "cell_type": "code",
   "execution_count": 21,
   "metadata": {},
   "outputs": [
    {
     "data": {
      "text/plain": [
       "Index(['client_id', 'client_country', 'client_gender', 'client_nationality',\n",
       "       'client_city', 'client_premium_status', 'client_is_phone_contactable',\n",
       "       'client_is_email_contactable',\n",
       "       'client_is_instant_messaging_contactable', 'client_is_contactable'],\n",
       "      dtype='object')"
      ]
     },
     "execution_count": 21,
     "metadata": {},
     "output_type": "execute_result"
    }
   ],
   "source": [
    "clients.columns"
   ]
  },
  {
   "cell_type": "code",
   "execution_count": 22,
   "metadata": {},
   "outputs": [],
   "source": [
    "clients_country = pd.DataFrame(clients.groupby('client_country', as_index=False)['client_id'].count().sort_values(by='client_id', ascending=False))"
   ]
  },
  {
   "cell_type": "code",
   "execution_count": 23,
   "metadata": {},
   "outputs": [
    {
     "data": {
      "text/plain": [
       "np.int64(19095)"
      ]
     },
     "execution_count": 23,
     "metadata": {},
     "output_type": "execute_result"
    }
   ],
   "source": [
    "clients_country['client_id'].sum()"
   ]
  },
  {
   "cell_type": "code",
   "execution_count": 24,
   "metadata": {},
   "outputs": [
    {
     "data": {
      "text/plain": [
       "np.int64(19095)"
      ]
     },
     "execution_count": 24,
     "metadata": {},
     "output_type": "execute_result"
    }
   ],
   "source": [
    "clients_country['client_id'].sum()"
   ]
  },
  {
   "cell_type": "code",
   "execution_count": 25,
   "metadata": {},
   "outputs": [],
   "source": [
    "clients_country['percentage_country'] = clients_country['client_id'] / clients_country['client_id'].sum()"
   ]
  },
  {
   "cell_type": "code",
   "execution_count": 26,
   "metadata": {},
   "outputs": [
    {
     "data": {
      "text/html": [
       "<div>\n",
       "<style scoped>\n",
       "    .dataframe tbody tr th:only-of-type {\n",
       "        vertical-align: middle;\n",
       "    }\n",
       "\n",
       "    .dataframe tbody tr th {\n",
       "        vertical-align: top;\n",
       "    }\n",
       "\n",
       "    .dataframe thead th {\n",
       "        text-align: right;\n",
       "    }\n",
       "</style>\n",
       "<table border=\"1\" class=\"dataframe\">\n",
       "  <thead>\n",
       "    <tr style=\"text-align: right;\">\n",
       "      <th></th>\n",
       "      <th>client_country</th>\n",
       "      <th>client_id</th>\n",
       "      <th>percentage_country</th>\n",
       "    </tr>\n",
       "  </thead>\n",
       "  <tbody>\n",
       "    <tr>\n",
       "      <th>1</th>\n",
       "      <td>AE</td>\n",
       "      <td>4905</td>\n",
       "      <td>0.256874</td>\n",
       "    </tr>\n",
       "    <tr>\n",
       "      <th>104</th>\n",
       "      <td>US</td>\n",
       "      <td>2515</td>\n",
       "      <td>0.131710</td>\n",
       "    </tr>\n",
       "    <tr>\n",
       "      <th>54</th>\n",
       "      <td>JP</td>\n",
       "      <td>1506</td>\n",
       "      <td>0.078869</td>\n",
       "    </tr>\n",
       "    <tr>\n",
       "      <th>36</th>\n",
       "      <td>FR</td>\n",
       "      <td>1426</td>\n",
       "      <td>0.074679</td>\n",
       "    </tr>\n",
       "    <tr>\n",
       "      <th>37</th>\n",
       "      <td>GB</td>\n",
       "      <td>1241</td>\n",
       "      <td>0.064991</td>\n",
       "    </tr>\n",
       "    <tr>\n",
       "      <th>...</th>\n",
       "      <td>...</td>\n",
       "      <td>...</td>\n",
       "      <td>...</td>\n",
       "    </tr>\n",
       "    <tr>\n",
       "      <th>96</th>\n",
       "      <td>SI</td>\n",
       "      <td>1</td>\n",
       "      <td>0.000052</td>\n",
       "    </tr>\n",
       "    <tr>\n",
       "      <th>68</th>\n",
       "      <td>MD</td>\n",
       "      <td>1</td>\n",
       "      <td>0.000052</td>\n",
       "    </tr>\n",
       "    <tr>\n",
       "      <th>65</th>\n",
       "      <td>LY</td>\n",
       "      <td>1</td>\n",
       "      <td>0.000052</td>\n",
       "    </tr>\n",
       "    <tr>\n",
       "      <th>32</th>\n",
       "      <td>EE</td>\n",
       "      <td>1</td>\n",
       "      <td>0.000052</td>\n",
       "    </tr>\n",
       "    <tr>\n",
       "      <th>8</th>\n",
       "      <td>AW</td>\n",
       "      <td>1</td>\n",
       "      <td>0.000052</td>\n",
       "    </tr>\n",
       "  </tbody>\n",
       "</table>\n",
       "<p>108 rows × 3 columns</p>\n",
       "</div>"
      ],
      "text/plain": [
       "    client_country  client_id  percentage_country\n",
       "1               AE       4905            0.256874\n",
       "104             US       2515            0.131710\n",
       "54              JP       1506            0.078869\n",
       "36              FR       1426            0.074679\n",
       "37              GB       1241            0.064991\n",
       "..             ...        ...                 ...\n",
       "96              SI          1            0.000052\n",
       "68              MD          1            0.000052\n",
       "65              LY          1            0.000052\n",
       "32              EE          1            0.000052\n",
       "8               AW          1            0.000052\n",
       "\n",
       "[108 rows x 3 columns]"
      ]
     },
     "execution_count": 26,
     "metadata": {},
     "output_type": "execute_result"
    }
   ],
   "source": [
    "clients_country"
   ]
  },
  {
   "cell_type": "code",
   "execution_count": 27,
   "metadata": {},
   "outputs": [
    {
     "data": {
      "image/png": "[encoded data removed]",
      "text/plain": [
       "<Figure size 640x480 with 1 Axes>"
      ]
     },
     "metadata": {},
     "output_type": "display_data"
    },
    {
     "data": {
      "text/plain": [
       "<Figure size 800x1000 with 0 Axes>"
      ]
     },
     "metadata": {},
     "output_type": "display_data"
    }
   ],
   "source": [
    "labels = 'Arabic Emirates', 'United States', 'Japan', 'France', 'Great Britain', 'Italy', 'Others'\n",
    "sizes = [25.6, 13.2, 7.9, 7.5, 6.5, 6.3, 32.9]\n",
    "\n",
    "fig, ax = plt.subplots()\n",
    "ax.pie(sizes, labels=labels, autopct='%1.1f%%'\n",
    "       , colors=['tomato', 'gold', 'yellow', 'yellowgreen', 'deepskyblue', 'royalblue', 'mediumvioletred']\n",
    "       , radius=1.05)\n",
    "\n",
    "plt.title('Distribution of clients by country')\n",
    "plt.figure(figsize=(8,10))\n",
    "plt.show()"
   ]
  },
  {
   "cell_type": "markdown",
   "metadata": {},
   "source": [
    "## Transactions and Actions over time"
   ]
  },
  {
   "cell_type": "code",
   "execution_count": 30,
   "metadata": {},
   "outputs": [],
   "source": [
    "number_transactions = pd.DataFrame(transactions.groupby('transaction_date', as_index=False)['transaction_id'].count())"
   ]
  },
  {
   "cell_type": "code",
   "execution_count": 61,
   "metadata": {},
   "outputs": [],
   "source": [
    "agg = number_transactions.set_index('transaction_date').resample(\"ME\").sum()\n",
    "agg.reset_index(inplace=True)"
   ]
  },
  {
   "cell_type": "code",
   "execution_count": 66,
   "metadata": {},
   "outputs": [
    {
     "data": {
      "image/png": "[encoded data removed]",
      "text/plain": [
       "<Figure size 640x480 with 1 Axes>"
      ]
     },
     "metadata": {},
     "output_type": "display_data"
    }
   ],
   "source": [
    "plt.plot(agg['transaction_date'], agg['transaction_id'])\n",
    "plt.xticks(rotation=45)\n",
    "plt.title('Number of transactions over time')\n",
    "plt.ylabel('Transactions count')\n",
    "plt.xlabel('Time')\n",
    "plt.show()"
   ]
  },
  {
   "cell_type": "code",
   "execution_count": 70,
   "metadata": {},
   "outputs": [
    {
     "data": {
      "text/plain": [
       "Index(['client_id', 'transaction_id', 'transaction_date', 'product_quantity',\n",
       "       'gross_amount_euro', 'product_category', 'product_subcategory',\n",
       "       'product_style'],\n",
       "      dtype='object')"
      ]
     },
     "execution_count": 70,
     "metadata": {},
     "output_type": "execute_result"
    }
   ],
   "source": [
    "transactions.columns"
   ]
  },
  {
   "cell_type": "code",
   "execution_count": 73,
   "metadata": {},
   "outputs": [
    {
     "data": {
      "image/png": "[encoded data removed]",
      "text/plain": [
       "<Figure size 640x480 with 1 Axes>"
      ]
     },
     "metadata": {},
     "output_type": "display_data"
    }
   ],
   "source": [
    "amount_transactions = pd.DataFrame(transactions.groupby('transaction_date', as_index=False)['gross_amount_euro'].sum())\n",
    "agg1 = amount_transactions.set_index('transaction_date').resample(\"ME\").sum()\n",
    "agg1.reset_index(inplace=True)\n",
    "\n",
    "plt.plot(agg1['transaction_date'], agg1['gross_amount_euro'])\n",
    "plt.xticks(rotation=45)\n",
    "plt.title('Amount of transactions over time')\n",
    "plt.ylabel('Transactions amount')\n",
    "plt.xlabel('Time')\n",
    "plt.show()"
   ]
  },
  {
   "cell_type": "code",
   "execution_count": 76,
   "metadata": {},
   "outputs": [
    {
     "name": "stdout",
     "output_type": "stream",
     "text": [
      "mean transaction amount = 3443€\n"
     ]
    }
   ],
   "source": [
    "print(f\"mean transaction amount = {round(transactions['gross_amount_euro'].mean())}€\")"
   ]
  },
  {
   "cell_type": "code",
   "execution_count": 67,
   "metadata": {},
   "outputs": [
    {
     "data": {
      "text/plain": [
       "Index(['action_id', 'action_type_label', 'action_subcategory_label',\n",
       "       'action_start_date', 'action_year', 'action_end_date',\n",
       "       'action_collection_year', 'action_collection', 'action_universe',\n",
       "       'action_category_label', 'action_channel', 'action_label', 'client_id',\n",
       "       'client_is_present', 'client_is_invited'],\n",
       "      dtype='object')"
      ]
     },
     "execution_count": 67,
     "metadata": {},
     "output_type": "execute_result"
    }
   ],
   "source": [
    "actions.columns"
   ]
  },
  {
   "cell_type": "code",
   "execution_count": 68,
   "metadata": {},
   "outputs": [],
   "source": [
    "number_actions = pd.DataFrame(actions.groupby('action_start_date', as_index=False)['action_id'].count())"
   ]
  },
  {
   "cell_type": "code",
   "execution_count": 69,
   "metadata": {},
   "outputs": [
    {
     "data": {
      "image/png": "[encoded data removed]",
      "text/plain": [
       "<Figure size 640x480 with 1 Axes>"
      ]
     },
     "metadata": {},
     "output_type": "display_data"
    }
   ],
   "source": [
    "agg2 = number_actions.set_index('action_start_date').resample(\"ME\").sum()\n",
    "agg2.reset_index(inplace=True)\n",
    "\n",
    "plt.plot(agg2['action_start_date'], agg2['action_id'])\n",
    "plt.xticks(rotation=45)\n",
    "plt.title('Number of actions over time')\n",
    "plt.ylabel('Actions count')\n",
    "plt.xlabel('Time')\n",
    "plt.show()"
   ]
  }
 ],
 "metadata": {
  "kernelspec": {
   "display_name": "eleven_project",
   "language": "python",
   "name": "python3"
  },
  "language_info": {
   "codemirror_mode": {
    "name": "ipython",
    "version": 3
   },
   "file_extension": ".py",
   "mimetype": "text/x-python",
   "name": "python",
   "nbconvert_exporter": "python",
   "pygments_lexer": "ipython3",
   "version": "3.10.6"
  }
 },
 "nbformat": 4,
 "nbformat_minor": 2
}
