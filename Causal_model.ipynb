{
 "cells": [
  {
   "cell_type": "markdown",
   "metadata": {},
   "source": [
    "## The aim of this notebook is creating a pipeline to assigne to each client the Estimate in the incremental sales uplift caused by an invitation (i.e., the causal effect of the invitation).\n",
    "\n",
    "- Treatment: Invitation to an event (client_is_invited in Actions).\n",
    "- Outcome: Post-event sales (e.g., gross_amount_euro in Transactions within a defined window after the event)."
   ]
  },
  {
   "cell_type": "code",
   "execution_count": 2,
   "metadata": {},
   "outputs": [],
   "source": [
    "import pandas as pd"
   ]
  },
  {
   "cell_type": "code",
   "execution_count": 4,
   "metadata": {},
   "outputs": [],
   "source": [
    "# import Data\n",
    "actions = pd.read_excel(\"XHEC-Eleven-Project/data/actions.xlsx\")\n",
    "clients = pd.read_excel(\"XHEC-Eleven-Project/data/clients.xlsx\")\n",
    "transactions = pd.read_excel(\"XHEC-Eleven-Project/data/transactions.xlsx\")"
   ]
  },
  {
   "cell_type": "code",
   "execution_count": null,
   "metadata": {},
   "outputs": [],
   "source": []
  }
 ],
 "metadata": {
  "kernelspec": {
   "display_name": "base",
   "language": "python",
   "name": "python3"
  },
  "language_info": {
   "codemirror_mode": {
    "name": "ipython",
    "version": 3
   },
   "file_extension": ".py",
   "mimetype": "text/x-python",
   "name": "python",
   "nbconvert_exporter": "python",
   "pygments_lexer": "ipython3",
   "version": "3.11.7"
  }
 },
 "nbformat": 4,
 "nbformat_minor": 2
}
